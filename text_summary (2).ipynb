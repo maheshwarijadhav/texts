{
  "nbformat": 4,
  "nbformat_minor": 0,
  "metadata": {
    "colab": {
      "provenance": [],
      "gpuType": "T4"
    },
    "kernelspec": {
      "name": "python3",
      "display_name": "Python 3"
    },
    "language_info": {
      "name": "python"
    },
    "accelerator": "GPU"
  },
  "cells": [
    {
      "cell_type": "markdown",
      "source": [
        "\n",
        "# ***Text Summarization using Encoder-Decoder Models with Variations***"
      ],
      "metadata": {
        "id": "64JJHe8UpORg"
      }
    },
    {
      "cell_type": "markdown",
      "source": [
        "Group:\n",
        "1. Nikhil Patil\n",
        "2. Jayashri Musale\n",
        "3. Yash Chavan\n",
        "4. Maheshwari Jadhav"
      ],
      "metadata": {
        "id": "d2cHkW3Ip29u"
      }
    },
    {
      "cell_type": "code",
      "source": [
        "!pip install tensorflow pandas numpy matplotlib scikit-learn PyPDF2 streamlit\n"
      ],
      "metadata": {
        "colab": {
          "base_uri": "https://localhost:8080/"
        },
        "id": "denitZbJW-Eq",
        "outputId": "0e379214-8083-4ce4-9314-92a205da29bb"
      },
      "execution_count": 7,
      "outputs": [
        {
          "output_type": "stream",
          "name": "stdout",
          "text": [
            "Requirement already satisfied: tensorflow in /usr/local/lib/python3.10/dist-packages (2.13.0)\n",
            "Requirement already satisfied: pandas in /usr/local/lib/python3.10/dist-packages (2.2.2)\n",
            "Requirement already satisfied: numpy in /usr/local/lib/python3.10/dist-packages (1.24.3)\n",
            "Requirement already satisfied: matplotlib in /usr/local/lib/python3.10/dist-packages (3.8.0)\n",
            "Requirement already satisfied: scikit-learn in /usr/local/lib/python3.10/dist-packages (1.5.2)\n",
            "Requirement already satisfied: PyPDF2 in /usr/local/lib/python3.10/dist-packages (3.0.1)\n",
            "Requirement already satisfied: streamlit in /usr/local/lib/python3.10/dist-packages (1.40.1)\n",
            "Requirement already satisfied: absl-py>=1.0.0 in /usr/local/lib/python3.10/dist-packages (from tensorflow) (1.4.0)\n",
            "Requirement already satisfied: astunparse>=1.6.0 in /usr/local/lib/python3.10/dist-packages (from tensorflow) (1.6.3)\n",
            "Requirement already satisfied: flatbuffers>=23.1.21 in /usr/local/lib/python3.10/dist-packages (from tensorflow) (24.3.25)\n",
            "Requirement already satisfied: gast<=0.4.0,>=0.2.1 in /usr/local/lib/python3.10/dist-packages (from tensorflow) (0.4.0)\n",
            "Requirement already satisfied: google-pasta>=0.1.1 in /usr/local/lib/python3.10/dist-packages (from tensorflow) (0.2.0)\n",
            "Requirement already satisfied: grpcio<2.0,>=1.24.3 in /usr/local/lib/python3.10/dist-packages (from tensorflow) (1.68.0)\n",
            "Requirement already satisfied: h5py>=2.9.0 in /usr/local/lib/python3.10/dist-packages (from tensorflow) (3.12.1)\n",
            "Requirement already satisfied: keras<2.14,>=2.13.1 in /usr/local/lib/python3.10/dist-packages (from tensorflow) (2.13.1)\n",
            "Requirement already satisfied: libclang>=13.0.0 in /usr/local/lib/python3.10/dist-packages (from tensorflow) (18.1.1)\n",
            "Requirement already satisfied: opt-einsum>=2.3.2 in /usr/local/lib/python3.10/dist-packages (from tensorflow) (3.4.0)\n",
            "Requirement already satisfied: packaging in /usr/local/lib/python3.10/dist-packages (from tensorflow) (24.2)\n",
            "Requirement already satisfied: protobuf!=4.21.0,!=4.21.1,!=4.21.2,!=4.21.3,!=4.21.4,!=4.21.5,<5.0.0dev,>=3.20.3 in /usr/local/lib/python3.10/dist-packages (from tensorflow) (4.25.5)\n",
            "Requirement already satisfied: setuptools in /usr/local/lib/python3.10/dist-packages (from tensorflow) (75.6.0)\n",
            "Requirement already satisfied: six>=1.12.0 in /usr/local/lib/python3.10/dist-packages (from tensorflow) (1.16.0)\n",
            "Requirement already satisfied: tensorboard<2.14,>=2.13 in /usr/local/lib/python3.10/dist-packages (from tensorflow) (2.13.0)\n",
            "Requirement already satisfied: tensorflow-estimator<2.14,>=2.13.0 in /usr/local/lib/python3.10/dist-packages (from tensorflow) (2.13.0)\n",
            "Requirement already satisfied: termcolor>=1.1.0 in /usr/local/lib/python3.10/dist-packages (from tensorflow) (2.5.0)\n",
            "Requirement already satisfied: typing-extensions<4.6.0,>=3.6.6 in /usr/local/lib/python3.10/dist-packages (from tensorflow) (4.5.0)\n",
            "Requirement already satisfied: wrapt>=1.11.0 in /usr/local/lib/python3.10/dist-packages (from tensorflow) (1.16.0)\n",
            "Requirement already satisfied: tensorflow-io-gcs-filesystem>=0.23.1 in /usr/local/lib/python3.10/dist-packages (from tensorflow) (0.37.1)\n",
            "Requirement already satisfied: python-dateutil>=2.8.2 in /usr/local/lib/python3.10/dist-packages (from pandas) (2.8.2)\n",
            "Requirement already satisfied: pytz>=2020.1 in /usr/local/lib/python3.10/dist-packages (from pandas) (2024.2)\n",
            "Requirement already satisfied: tzdata>=2022.7 in /usr/local/lib/python3.10/dist-packages (from pandas) (2024.2)\n",
            "Requirement already satisfied: contourpy>=1.0.1 in /usr/local/lib/python3.10/dist-packages (from matplotlib) (1.3.1)\n",
            "Requirement already satisfied: cycler>=0.10 in /usr/local/lib/python3.10/dist-packages (from matplotlib) (0.12.1)\n",
            "Requirement already satisfied: fonttools>=4.22.0 in /usr/local/lib/python3.10/dist-packages (from matplotlib) (4.55.0)\n",
            "Requirement already satisfied: kiwisolver>=1.0.1 in /usr/local/lib/python3.10/dist-packages (from matplotlib) (1.4.7)\n",
            "Requirement already satisfied: pillow>=6.2.0 in /usr/local/lib/python3.10/dist-packages (from matplotlib) (11.0.0)\n",
            "Requirement already satisfied: pyparsing>=2.3.1 in /usr/local/lib/python3.10/dist-packages (from matplotlib) (3.2.0)\n",
            "Requirement already satisfied: scipy>=1.6.0 in /usr/local/lib/python3.10/dist-packages (from scikit-learn) (1.13.1)\n",
            "Requirement already satisfied: joblib>=1.2.0 in /usr/local/lib/python3.10/dist-packages (from scikit-learn) (1.4.2)\n",
            "Requirement already satisfied: threadpoolctl>=3.1.0 in /usr/local/lib/python3.10/dist-packages (from scikit-learn) (3.5.0)\n",
            "Requirement already satisfied: altair<6,>=4.0 in /usr/local/lib/python3.10/dist-packages (from streamlit) (4.2.2)\n",
            "Requirement already satisfied: blinker<2,>=1.0.0 in /usr/local/lib/python3.10/dist-packages (from streamlit) (1.9.0)\n",
            "Requirement already satisfied: cachetools<6,>=4.0 in /usr/local/lib/python3.10/dist-packages (from streamlit) (5.5.0)\n",
            "Requirement already satisfied: click<9,>=7.0 in /usr/local/lib/python3.10/dist-packages (from streamlit) (8.1.7)\n",
            "Requirement already satisfied: pyarrow>=7.0 in /usr/local/lib/python3.10/dist-packages (from streamlit) (17.0.0)\n",
            "Requirement already satisfied: requests<3,>=2.27 in /usr/local/lib/python3.10/dist-packages (from streamlit) (2.32.3)\n",
            "Requirement already satisfied: rich<14,>=10.14.0 in /usr/local/lib/python3.10/dist-packages (from streamlit) (13.9.4)\n",
            "Requirement already satisfied: tenacity<10,>=8.1.0 in /usr/local/lib/python3.10/dist-packages (from streamlit) (9.0.0)\n",
            "Requirement already satisfied: toml<2,>=0.10.1 in /usr/local/lib/python3.10/dist-packages (from streamlit) (0.10.2)\n",
            "Requirement already satisfied: gitpython!=3.1.19,<4,>=3.0.7 in /usr/local/lib/python3.10/dist-packages (from streamlit) (3.1.43)\n",
            "Requirement already satisfied: pydeck<1,>=0.8.0b4 in /usr/local/lib/python3.10/dist-packages (from streamlit) (0.9.1)\n",
            "Requirement already satisfied: tornado<7,>=6.0.3 in /usr/local/lib/python3.10/dist-packages (from streamlit) (6.3.3)\n",
            "Requirement already satisfied: watchdog<7,>=2.1.5 in /usr/local/lib/python3.10/dist-packages (from streamlit) (6.0.0)\n",
            "Requirement already satisfied: entrypoints in /usr/local/lib/python3.10/dist-packages (from altair<6,>=4.0->streamlit) (0.4)\n",
            "Requirement already satisfied: jinja2 in /usr/local/lib/python3.10/dist-packages (from altair<6,>=4.0->streamlit) (3.1.4)\n",
            "Requirement already satisfied: jsonschema>=3.0 in /usr/local/lib/python3.10/dist-packages (from altair<6,>=4.0->streamlit) (4.23.0)\n",
            "Requirement already satisfied: toolz in /usr/local/lib/python3.10/dist-packages (from altair<6,>=4.0->streamlit) (0.12.1)\n",
            "Requirement already satisfied: wheel<1.0,>=0.23.0 in /usr/local/lib/python3.10/dist-packages (from astunparse>=1.6.0->tensorflow) (0.45.0)\n",
            "Requirement already satisfied: gitdb<5,>=4.0.1 in /usr/local/lib/python3.10/dist-packages (from gitpython!=3.1.19,<4,>=3.0.7->streamlit) (4.0.11)\n",
            "Requirement already satisfied: charset-normalizer<4,>=2 in /usr/local/lib/python3.10/dist-packages (from requests<3,>=2.27->streamlit) (3.4.0)\n",
            "Requirement already satisfied: idna<4,>=2.5 in /usr/local/lib/python3.10/dist-packages (from requests<3,>=2.27->streamlit) (3.10)\n",
            "Requirement already satisfied: urllib3<3,>=1.21.1 in /usr/local/lib/python3.10/dist-packages (from requests<3,>=2.27->streamlit) (2.2.3)\n",
            "Requirement already satisfied: certifi>=2017.4.17 in /usr/local/lib/python3.10/dist-packages (from requests<3,>=2.27->streamlit) (2024.8.30)\n",
            "Requirement already satisfied: markdown-it-py>=2.2.0 in /usr/local/lib/python3.10/dist-packages (from rich<14,>=10.14.0->streamlit) (3.0.0)\n",
            "Requirement already satisfied: pygments<3.0.0,>=2.13.0 in /usr/local/lib/python3.10/dist-packages (from rich<14,>=10.14.0->streamlit) (2.18.0)\n",
            "Requirement already satisfied: google-auth<3,>=1.6.3 in /usr/local/lib/python3.10/dist-packages (from tensorboard<2.14,>=2.13->tensorflow) (2.27.0)\n",
            "Requirement already satisfied: google-auth-oauthlib<1.1,>=0.5 in /usr/local/lib/python3.10/dist-packages (from tensorboard<2.14,>=2.13->tensorflow) (1.0.0)\n",
            "Requirement already satisfied: markdown>=2.6.8 in /usr/local/lib/python3.10/dist-packages (from tensorboard<2.14,>=2.13->tensorflow) (3.7)\n",
            "Requirement already satisfied: tensorboard-data-server<0.8.0,>=0.7.0 in /usr/local/lib/python3.10/dist-packages (from tensorboard<2.14,>=2.13->tensorflow) (0.7.2)\n",
            "Requirement already satisfied: werkzeug>=1.0.1 in /usr/local/lib/python3.10/dist-packages (from tensorboard<2.14,>=2.13->tensorflow) (3.1.3)\n",
            "Requirement already satisfied: smmap<6,>=3.0.1 in /usr/local/lib/python3.10/dist-packages (from gitdb<5,>=4.0.1->gitpython!=3.1.19,<4,>=3.0.7->streamlit) (5.0.1)\n",
            "Requirement already satisfied: pyasn1-modules>=0.2.1 in /usr/local/lib/python3.10/dist-packages (from google-auth<3,>=1.6.3->tensorboard<2.14,>=2.13->tensorflow) (0.4.1)\n",
            "Requirement already satisfied: rsa<5,>=3.1.4 in /usr/local/lib/python3.10/dist-packages (from google-auth<3,>=1.6.3->tensorboard<2.14,>=2.13->tensorflow) (4.9)\n",
            "Requirement already satisfied: requests-oauthlib>=0.7.0 in /usr/local/lib/python3.10/dist-packages (from google-auth-oauthlib<1.1,>=0.5->tensorboard<2.14,>=2.13->tensorflow) (1.3.1)\n",
            "Requirement already satisfied: MarkupSafe>=2.0 in /usr/local/lib/python3.10/dist-packages (from jinja2->altair<6,>=4.0->streamlit) (3.0.2)\n",
            "Requirement already satisfied: attrs>=22.2.0 in /usr/local/lib/python3.10/dist-packages (from jsonschema>=3.0->altair<6,>=4.0->streamlit) (24.2.0)\n",
            "Requirement already satisfied: jsonschema-specifications>=2023.03.6 in /usr/local/lib/python3.10/dist-packages (from jsonschema>=3.0->altair<6,>=4.0->streamlit) (2024.10.1)\n",
            "Requirement already satisfied: referencing>=0.28.4 in /usr/local/lib/python3.10/dist-packages (from jsonschema>=3.0->altair<6,>=4.0->streamlit) (0.35.1)\n",
            "Requirement already satisfied: rpds-py>=0.7.1 in /usr/local/lib/python3.10/dist-packages (from jsonschema>=3.0->altair<6,>=4.0->streamlit) (0.21.0)\n",
            "Requirement already satisfied: mdurl~=0.1 in /usr/local/lib/python3.10/dist-packages (from markdown-it-py>=2.2.0->rich<14,>=10.14.0->streamlit) (0.1.2)\n",
            "Requirement already satisfied: pyasn1<0.7.0,>=0.4.6 in /usr/local/lib/python3.10/dist-packages (from pyasn1-modules>=0.2.1->google-auth<3,>=1.6.3->tensorboard<2.14,>=2.13->tensorflow) (0.6.1)\n",
            "Requirement already satisfied: oauthlib>=3.0.0 in /usr/local/lib/python3.10/dist-packages (from requests-oauthlib>=0.7.0->google-auth-oauthlib<1.1,>=0.5->tensorboard<2.14,>=2.13->tensorflow) (3.2.2)\n"
          ]
        }
      ]
    },
    {
      "cell_type": "code",
      "source": [
        "from zipfile import ZipFile\n",
        "import os\n",
        "\n",
        "# Upload the zip file first\n",
        "# After uploading, unzip the dataset\n",
        "with ZipFile('samsum-dataset.zip', 'r') as zip_ref:\n",
        "    zip_ref.extractall('samsum-dataset')\n",
        "\n",
        "# Check extracted files\n",
        "os.listdir('samsum-dataset')\n"
      ],
      "metadata": {
        "colab": {
          "base_uri": "https://localhost:8080/"
        },
        "id": "EGkIDFCFXA_d",
        "outputId": "e6e65fa2-f31f-4418-d46c-83e5b9a2025e"
      },
      "execution_count": 6,
      "outputs": [
        {
          "output_type": "execute_result",
          "data": {
            "text/plain": [
              "['samsum-test.csv',\n",
              " 'samsum_dataset',\n",
              " 'samsum-train.csv',\n",
              " 'samsum-validation.csv']"
            ]
          },
          "metadata": {},
          "execution_count": 6
        }
      ]
    },
    {
      "cell_type": "code",
      "source": [
        "import pandas as pd\n",
        "\n",
        "# Load the dataset\n",
        "df = pd.read_csv('samsum-dataset/samsum-train.csv')  # Replace with the correct path if needed\n",
        "\n",
        "# Check the first few rows\n",
        "df.head()\n"
      ],
      "metadata": {
        "colab": {
          "base_uri": "https://localhost:8080/",
          "height": 206
        },
        "id": "_H638D3zXOVs",
        "outputId": "e5d02a84-956c-47f4-d96f-8bd6b1f4aefc"
      },
      "execution_count": 5,
      "outputs": [
        {
          "output_type": "execute_result",
          "data": {
            "text/plain": [
              "         id                                           dialogue  \\\n",
              "0  13818513  Amanda: I baked  cookies. Do you want some?\\r\\...   \n",
              "1  13728867  Olivia: Who are you voting for in this electio...   \n",
              "2  13681000  Tim: Hi, what's up?\\r\\nKim: Bad mood tbh, I wa...   \n",
              "3  13730747  Edward: Rachel, I think I'm in ove with Bella....   \n",
              "4  13728094  Sam: hey  overheard rick say something\\r\\nSam:...   \n",
              "\n",
              "                                             summary  \n",
              "0  Amanda baked cookies and will bring Jerry some...  \n",
              "1  Olivia and Olivier are voting for liberals in ...  \n",
              "2  Kim may try the pomodoro technique recommended...  \n",
              "3  Edward thinks he is in love with Bella. Rachel...  \n",
              "4  Sam is confused, because he overheard Rick com...  "
            ],
            "text/html": [
              "\n",
              "  <div id=\"df-29d8aee3-d662-4d4c-8f0e-aa1663fa411b\" class=\"colab-df-container\">\n",
              "    <div>\n",
              "<style scoped>\n",
              "    .dataframe tbody tr th:only-of-type {\n",
              "        vertical-align: middle;\n",
              "    }\n",
              "\n",
              "    .dataframe tbody tr th {\n",
              "        vertical-align: top;\n",
              "    }\n",
              "\n",
              "    .dataframe thead th {\n",
              "        text-align: right;\n",
              "    }\n",
              "</style>\n",
              "<table border=\"1\" class=\"dataframe\">\n",
              "  <thead>\n",
              "    <tr style=\"text-align: right;\">\n",
              "      <th></th>\n",
              "      <th>id</th>\n",
              "      <th>dialogue</th>\n",
              "      <th>summary</th>\n",
              "    </tr>\n",
              "  </thead>\n",
              "  <tbody>\n",
              "    <tr>\n",
              "      <th>0</th>\n",
              "      <td>13818513</td>\n",
              "      <td>Amanda: I baked  cookies. Do you want some?\\r\\...</td>\n",
              "      <td>Amanda baked cookies and will bring Jerry some...</td>\n",
              "    </tr>\n",
              "    <tr>\n",
              "      <th>1</th>\n",
              "      <td>13728867</td>\n",
              "      <td>Olivia: Who are you voting for in this electio...</td>\n",
              "      <td>Olivia and Olivier are voting for liberals in ...</td>\n",
              "    </tr>\n",
              "    <tr>\n",
              "      <th>2</th>\n",
              "      <td>13681000</td>\n",
              "      <td>Tim: Hi, what's up?\\r\\nKim: Bad mood tbh, I wa...</td>\n",
              "      <td>Kim may try the pomodoro technique recommended...</td>\n",
              "    </tr>\n",
              "    <tr>\n",
              "      <th>3</th>\n",
              "      <td>13730747</td>\n",
              "      <td>Edward: Rachel, I think I'm in ove with Bella....</td>\n",
              "      <td>Edward thinks he is in love with Bella. Rachel...</td>\n",
              "    </tr>\n",
              "    <tr>\n",
              "      <th>4</th>\n",
              "      <td>13728094</td>\n",
              "      <td>Sam: hey  overheard rick say something\\r\\nSam:...</td>\n",
              "      <td>Sam is confused, because he overheard Rick com...</td>\n",
              "    </tr>\n",
              "  </tbody>\n",
              "</table>\n",
              "</div>\n",
              "    <div class=\"colab-df-buttons\">\n",
              "\n",
              "  <div class=\"colab-df-container\">\n",
              "    <button class=\"colab-df-convert\" onclick=\"convertToInteractive('df-29d8aee3-d662-4d4c-8f0e-aa1663fa411b')\"\n",
              "            title=\"Convert this dataframe to an interactive table.\"\n",
              "            style=\"display:none;\">\n",
              "\n",
              "  <svg xmlns=\"http://www.w3.org/2000/svg\" height=\"24px\" viewBox=\"0 -960 960 960\">\n",
              "    <path d=\"M120-120v-720h720v720H120Zm60-500h600v-160H180v160Zm220 220h160v-160H400v160Zm0 220h160v-160H400v160ZM180-400h160v-160H180v160Zm440 0h160v-160H620v160ZM180-180h160v-160H180v160Zm440 0h160v-160H620v160Z\"/>\n",
              "  </svg>\n",
              "    </button>\n",
              "\n",
              "  <style>\n",
              "    .colab-df-container {\n",
              "      display:flex;\n",
              "      gap: 12px;\n",
              "    }\n",
              "\n",
              "    .colab-df-convert {\n",
              "      background-color: #E8F0FE;\n",
              "      border: none;\n",
              "      border-radius: 50%;\n",
              "      cursor: pointer;\n",
              "      display: none;\n",
              "      fill: #1967D2;\n",
              "      height: 32px;\n",
              "      padding: 0 0 0 0;\n",
              "      width: 32px;\n",
              "    }\n",
              "\n",
              "    .colab-df-convert:hover {\n",
              "      background-color: #E2EBFA;\n",
              "      box-shadow: 0px 1px 2px rgba(60, 64, 67, 0.3), 0px 1px 3px 1px rgba(60, 64, 67, 0.15);\n",
              "      fill: #174EA6;\n",
              "    }\n",
              "\n",
              "    .colab-df-buttons div {\n",
              "      margin-bottom: 4px;\n",
              "    }\n",
              "\n",
              "    [theme=dark] .colab-df-convert {\n",
              "      background-color: #3B4455;\n",
              "      fill: #D2E3FC;\n",
              "    }\n",
              "\n",
              "    [theme=dark] .colab-df-convert:hover {\n",
              "      background-color: #434B5C;\n",
              "      box-shadow: 0px 1px 3px 1px rgba(0, 0, 0, 0.15);\n",
              "      filter: drop-shadow(0px 1px 2px rgba(0, 0, 0, 0.3));\n",
              "      fill: #FFFFFF;\n",
              "    }\n",
              "  </style>\n",
              "\n",
              "    <script>\n",
              "      const buttonEl =\n",
              "        document.querySelector('#df-29d8aee3-d662-4d4c-8f0e-aa1663fa411b button.colab-df-convert');\n",
              "      buttonEl.style.display =\n",
              "        google.colab.kernel.accessAllowed ? 'block' : 'none';\n",
              "\n",
              "      async function convertToInteractive(key) {\n",
              "        const element = document.querySelector('#df-29d8aee3-d662-4d4c-8f0e-aa1663fa411b');\n",
              "        const dataTable =\n",
              "          await google.colab.kernel.invokeFunction('convertToInteractive',\n",
              "                                                    [key], {});\n",
              "        if (!dataTable) return;\n",
              "\n",
              "        const docLinkHtml = 'Like what you see? Visit the ' +\n",
              "          '<a target=\"_blank\" href=https://colab.research.google.com/notebooks/data_table.ipynb>data table notebook</a>'\n",
              "          + ' to learn more about interactive tables.';\n",
              "        element.innerHTML = '';\n",
              "        dataTable['output_type'] = 'display_data';\n",
              "        await google.colab.output.renderOutput(dataTable, element);\n",
              "        const docLink = document.createElement('div');\n",
              "        docLink.innerHTML = docLinkHtml;\n",
              "        element.appendChild(docLink);\n",
              "      }\n",
              "    </script>\n",
              "  </div>\n",
              "\n",
              "\n",
              "<div id=\"df-9ab144b9-548b-48bd-a5c1-2e76d5f1a55b\">\n",
              "  <button class=\"colab-df-quickchart\" onclick=\"quickchart('df-9ab144b9-548b-48bd-a5c1-2e76d5f1a55b')\"\n",
              "            title=\"Suggest charts\"\n",
              "            style=\"display:none;\">\n",
              "\n",
              "<svg xmlns=\"http://www.w3.org/2000/svg\" height=\"24px\"viewBox=\"0 0 24 24\"\n",
              "     width=\"24px\">\n",
              "    <g>\n",
              "        <path d=\"M19 3H5c-1.1 0-2 .9-2 2v14c0 1.1.9 2 2 2h14c1.1 0 2-.9 2-2V5c0-1.1-.9-2-2-2zM9 17H7v-7h2v7zm4 0h-2V7h2v10zm4 0h-2v-4h2v4z\"/>\n",
              "    </g>\n",
              "</svg>\n",
              "  </button>\n",
              "\n",
              "<style>\n",
              "  .colab-df-quickchart {\n",
              "      --bg-color: #E8F0FE;\n",
              "      --fill-color: #1967D2;\n",
              "      --hover-bg-color: #E2EBFA;\n",
              "      --hover-fill-color: #174EA6;\n",
              "      --disabled-fill-color: #AAA;\n",
              "      --disabled-bg-color: #DDD;\n",
              "  }\n",
              "\n",
              "  [theme=dark] .colab-df-quickchart {\n",
              "      --bg-color: #3B4455;\n",
              "      --fill-color: #D2E3FC;\n",
              "      --hover-bg-color: #434B5C;\n",
              "      --hover-fill-color: #FFFFFF;\n",
              "      --disabled-bg-color: #3B4455;\n",
              "      --disabled-fill-color: #666;\n",
              "  }\n",
              "\n",
              "  .colab-df-quickchart {\n",
              "    background-color: var(--bg-color);\n",
              "    border: none;\n",
              "    border-radius: 50%;\n",
              "    cursor: pointer;\n",
              "    display: none;\n",
              "    fill: var(--fill-color);\n",
              "    height: 32px;\n",
              "    padding: 0;\n",
              "    width: 32px;\n",
              "  }\n",
              "\n",
              "  .colab-df-quickchart:hover {\n",
              "    background-color: var(--hover-bg-color);\n",
              "    box-shadow: 0 1px 2px rgba(60, 64, 67, 0.3), 0 1px 3px 1px rgba(60, 64, 67, 0.15);\n",
              "    fill: var(--button-hover-fill-color);\n",
              "  }\n",
              "\n",
              "  .colab-df-quickchart-complete:disabled,\n",
              "  .colab-df-quickchart-complete:disabled:hover {\n",
              "    background-color: var(--disabled-bg-color);\n",
              "    fill: var(--disabled-fill-color);\n",
              "    box-shadow: none;\n",
              "  }\n",
              "\n",
              "  .colab-df-spinner {\n",
              "    border: 2px solid var(--fill-color);\n",
              "    border-color: transparent;\n",
              "    border-bottom-color: var(--fill-color);\n",
              "    animation:\n",
              "      spin 1s steps(1) infinite;\n",
              "  }\n",
              "\n",
              "  @keyframes spin {\n",
              "    0% {\n",
              "      border-color: transparent;\n",
              "      border-bottom-color: var(--fill-color);\n",
              "      border-left-color: var(--fill-color);\n",
              "    }\n",
              "    20% {\n",
              "      border-color: transparent;\n",
              "      border-left-color: var(--fill-color);\n",
              "      border-top-color: var(--fill-color);\n",
              "    }\n",
              "    30% {\n",
              "      border-color: transparent;\n",
              "      border-left-color: var(--fill-color);\n",
              "      border-top-color: var(--fill-color);\n",
              "      border-right-color: var(--fill-color);\n",
              "    }\n",
              "    40% {\n",
              "      border-color: transparent;\n",
              "      border-right-color: var(--fill-color);\n",
              "      border-top-color: var(--fill-color);\n",
              "    }\n",
              "    60% {\n",
              "      border-color: transparent;\n",
              "      border-right-color: var(--fill-color);\n",
              "    }\n",
              "    80% {\n",
              "      border-color: transparent;\n",
              "      border-right-color: var(--fill-color);\n",
              "      border-bottom-color: var(--fill-color);\n",
              "    }\n",
              "    90% {\n",
              "      border-color: transparent;\n",
              "      border-bottom-color: var(--fill-color);\n",
              "    }\n",
              "  }\n",
              "</style>\n",
              "\n",
              "  <script>\n",
              "    async function quickchart(key) {\n",
              "      const quickchartButtonEl =\n",
              "        document.querySelector('#' + key + ' button');\n",
              "      quickchartButtonEl.disabled = true;  // To prevent multiple clicks.\n",
              "      quickchartButtonEl.classList.add('colab-df-spinner');\n",
              "      try {\n",
              "        const charts = await google.colab.kernel.invokeFunction(\n",
              "            'suggestCharts', [key], {});\n",
              "      } catch (error) {\n",
              "        console.error('Error during call to suggestCharts:', error);\n",
              "      }\n",
              "      quickchartButtonEl.classList.remove('colab-df-spinner');\n",
              "      quickchartButtonEl.classList.add('colab-df-quickchart-complete');\n",
              "    }\n",
              "    (() => {\n",
              "      let quickchartButtonEl =\n",
              "        document.querySelector('#df-9ab144b9-548b-48bd-a5c1-2e76d5f1a55b button');\n",
              "      quickchartButtonEl.style.display =\n",
              "        google.colab.kernel.accessAllowed ? 'block' : 'none';\n",
              "    })();\n",
              "  </script>\n",
              "</div>\n",
              "\n",
              "    </div>\n",
              "  </div>\n"
            ],
            "application/vnd.google.colaboratory.intrinsic+json": {
              "type": "dataframe",
              "variable_name": "df",
              "summary": "{\n  \"name\": \"df\",\n  \"rows\": 14732,\n  \"fields\": [\n    {\n      \"column\": \"id\",\n      \"properties\": {\n        \"dtype\": \"string\",\n        \"num_unique_values\": 14732,\n        \"samples\": [\n          \"13811908\",\n          \"13716431\",\n          \"13810214\"\n        ],\n        \"semantic_type\": \"\",\n        \"description\": \"\"\n      }\n    },\n    {\n      \"column\": \"dialogue\",\n      \"properties\": {\n        \"dtype\": \"string\",\n        \"num_unique_values\": 14264,\n        \"samples\": [\n          \"Debbie: Do you have time-travel machines in Austria?\\r\\nLorcan: Haha what the hell. Did you enjoy your weekend?\\r\\nDebbie: I\\u2019m the worst driver ever. I feel so sorry about other people in the streets. But besides that, it was ok :D.\\r\\nLorcan: What did you do? Did you hit someone?\\r\\nDebbie: No, I totally can't use the clutch. So I often stop in the middle of the street and can't move. Cause a car just stops working.\\r\\nLorcan: Hahaha. That\\u2019s dangerous. Automatic gear? \\r\\nDebbie: I wanted to share a car with my brother, it's a normal one. Mom bought an automatic one a couple of months ago, but it's new, and I bet she wouldn't lend it to me. What did you do???\\r\\nLorcan: Haha practice makes perfect! Yesterday and today it was 20+ degrees. I went to Amsterdam with friends. And just chilled in the park with some BBQ.\\r\\nDebbie: Amazing! Perfect weather. No insects yet, not too hot.\",\n          \"Allison: Have you heard the rumors?\\r\\nOnin: About?\\r\\nAllison: Jason is marrying Silvia \\r\\nOnin: Omg :O\\r\\nAllison: She is so lucky to have him\\r\\nOnin: Wbu?\\r\\nAllison: I am not into such things yet :/\\r\\nOnin: You should\\r\\nAllison: What would you be wearing on the function\\r\\nOnin: Actually, I have already ordered the suit\\r\\nAllison: You should have told me\\r\\nOnin: Will ask my tailor to sew one for u too\\r\\nAllison: kk <3\",\n          \"Darren: Look! 10am!\\r\\nFrank: Whoa! They're awesome knockers.\\r\\nDarren: Stop staring or she'll notice us! LOL\"\n        ],\n        \"semantic_type\": \"\",\n        \"description\": \"\"\n      }\n    },\n    {\n      \"column\": \"summary\",\n      \"properties\": {\n        \"dtype\": \"string\",\n        \"num_unique_values\": 14730,\n        \"samples\": [\n          \"Violet sent Claire Austin's article.\",\n          \"Michael, Tom and Chris tease Mark because he has a new girlfriend.\",\n          \"Leo just had a very good time with his parents in Spain. Granny will be happy if he came round and told her about his holidays. He could also see flowers blooming in her and Daddy's garden.\"\n        ],\n        \"semantic_type\": \"\",\n        \"description\": \"\"\n      }\n    }\n  ]\n}"
            }
          },
          "metadata": {},
          "execution_count": 5
        }
      ]
    },
    {
      "cell_type": "code",
      "source": [
        "import pandas as pd\n",
        "\n",
        "# Load the dataset\n",
        "df = pd.read_csv('samsum-dataset/samsum-train.csv')  # Replace with the correct path if needed\n",
        "\n",
        "# Check the first few rows\n",
        "df.head()\n",
        "\n",
        "# Prepare input and target sequences\n",
        "input_texts = df['dialogue']\n",
        "target_texts = df['summary']\n"
      ],
      "metadata": {
        "id": "5KYPsDY1X8ks"
      },
      "execution_count": 4,
      "outputs": []
    },
    {
      "cell_type": "code",
      "source": [
        "!pip install tensorflow\n"
      ],
      "metadata": {
        "colab": {
          "base_uri": "https://localhost:8080/"
        },
        "id": "TJBAs_yMYQcg",
        "outputId": "befab66c-fd1f-4581-b76d-c1e255a67b47"
      },
      "execution_count": 3,
      "outputs": [
        {
          "output_type": "stream",
          "name": "stdout",
          "text": [
            "Requirement already satisfied: tensorflow in /usr/local/lib/python3.10/dist-packages (2.13.0)\n",
            "Requirement already satisfied: absl-py>=1.0.0 in /usr/local/lib/python3.10/dist-packages (from tensorflow) (1.4.0)\n",
            "Requirement already satisfied: astunparse>=1.6.0 in /usr/local/lib/python3.10/dist-packages (from tensorflow) (1.6.3)\n",
            "Requirement already satisfied: flatbuffers>=23.1.21 in /usr/local/lib/python3.10/dist-packages (from tensorflow) (24.3.25)\n",
            "Requirement already satisfied: gast<=0.4.0,>=0.2.1 in /usr/local/lib/python3.10/dist-packages (from tensorflow) (0.4.0)\n",
            "Requirement already satisfied: google-pasta>=0.1.1 in /usr/local/lib/python3.10/dist-packages (from tensorflow) (0.2.0)\n",
            "Requirement already satisfied: grpcio<2.0,>=1.24.3 in /usr/local/lib/python3.10/dist-packages (from tensorflow) (1.68.0)\n",
            "Requirement already satisfied: h5py>=2.9.0 in /usr/local/lib/python3.10/dist-packages (from tensorflow) (3.12.1)\n",
            "Requirement already satisfied: keras<2.14,>=2.13.1 in /usr/local/lib/python3.10/dist-packages (from tensorflow) (2.13.1)\n",
            "Requirement already satisfied: libclang>=13.0.0 in /usr/local/lib/python3.10/dist-packages (from tensorflow) (18.1.1)\n",
            "Requirement already satisfied: numpy<=1.24.3,>=1.22 in /usr/local/lib/python3.10/dist-packages (from tensorflow) (1.24.3)\n",
            "Requirement already satisfied: opt-einsum>=2.3.2 in /usr/local/lib/python3.10/dist-packages (from tensorflow) (3.4.0)\n",
            "Requirement already satisfied: packaging in /usr/local/lib/python3.10/dist-packages (from tensorflow) (24.2)\n",
            "Requirement already satisfied: protobuf!=4.21.0,!=4.21.1,!=4.21.2,!=4.21.3,!=4.21.4,!=4.21.5,<5.0.0dev,>=3.20.3 in /usr/local/lib/python3.10/dist-packages (from tensorflow) (4.25.5)\n",
            "Requirement already satisfied: setuptools in /usr/local/lib/python3.10/dist-packages (from tensorflow) (75.6.0)\n",
            "Requirement already satisfied: six>=1.12.0 in /usr/local/lib/python3.10/dist-packages (from tensorflow) (1.16.0)\n",
            "Requirement already satisfied: tensorboard<2.14,>=2.13 in /usr/local/lib/python3.10/dist-packages (from tensorflow) (2.13.0)\n",
            "Requirement already satisfied: tensorflow-estimator<2.14,>=2.13.0 in /usr/local/lib/python3.10/dist-packages (from tensorflow) (2.13.0)\n",
            "Requirement already satisfied: termcolor>=1.1.0 in /usr/local/lib/python3.10/dist-packages (from tensorflow) (2.5.0)\n",
            "Requirement already satisfied: typing-extensions<4.6.0,>=3.6.6 in /usr/local/lib/python3.10/dist-packages (from tensorflow) (4.5.0)\n",
            "Requirement already satisfied: wrapt>=1.11.0 in /usr/local/lib/python3.10/dist-packages (from tensorflow) (1.16.0)\n",
            "Requirement already satisfied: tensorflow-io-gcs-filesystem>=0.23.1 in /usr/local/lib/python3.10/dist-packages (from tensorflow) (0.37.1)\n",
            "Requirement already satisfied: wheel<1.0,>=0.23.0 in /usr/local/lib/python3.10/dist-packages (from astunparse>=1.6.0->tensorflow) (0.45.0)\n",
            "Requirement already satisfied: google-auth<3,>=1.6.3 in /usr/local/lib/python3.10/dist-packages (from tensorboard<2.14,>=2.13->tensorflow) (2.27.0)\n",
            "Requirement already satisfied: google-auth-oauthlib<1.1,>=0.5 in /usr/local/lib/python3.10/dist-packages (from tensorboard<2.14,>=2.13->tensorflow) (1.0.0)\n",
            "Requirement already satisfied: markdown>=2.6.8 in /usr/local/lib/python3.10/dist-packages (from tensorboard<2.14,>=2.13->tensorflow) (3.7)\n",
            "Requirement already satisfied: requests<3,>=2.21.0 in /usr/local/lib/python3.10/dist-packages (from tensorboard<2.14,>=2.13->tensorflow) (2.32.3)\n",
            "Requirement already satisfied: tensorboard-data-server<0.8.0,>=0.7.0 in /usr/local/lib/python3.10/dist-packages (from tensorboard<2.14,>=2.13->tensorflow) (0.7.2)\n",
            "Requirement already satisfied: werkzeug>=1.0.1 in /usr/local/lib/python3.10/dist-packages (from tensorboard<2.14,>=2.13->tensorflow) (3.1.3)\n",
            "Requirement already satisfied: cachetools<6.0,>=2.0.0 in /usr/local/lib/python3.10/dist-packages (from google-auth<3,>=1.6.3->tensorboard<2.14,>=2.13->tensorflow) (5.5.0)\n",
            "Requirement already satisfied: pyasn1-modules>=0.2.1 in /usr/local/lib/python3.10/dist-packages (from google-auth<3,>=1.6.3->tensorboard<2.14,>=2.13->tensorflow) (0.4.1)\n",
            "Requirement already satisfied: rsa<5,>=3.1.4 in /usr/local/lib/python3.10/dist-packages (from google-auth<3,>=1.6.3->tensorboard<2.14,>=2.13->tensorflow) (4.9)\n",
            "Requirement already satisfied: requests-oauthlib>=0.7.0 in /usr/local/lib/python3.10/dist-packages (from google-auth-oauthlib<1.1,>=0.5->tensorboard<2.14,>=2.13->tensorflow) (1.3.1)\n",
            "Requirement already satisfied: charset-normalizer<4,>=2 in /usr/local/lib/python3.10/dist-packages (from requests<3,>=2.21.0->tensorboard<2.14,>=2.13->tensorflow) (3.4.0)\n",
            "Requirement already satisfied: idna<4,>=2.5 in /usr/local/lib/python3.10/dist-packages (from requests<3,>=2.21.0->tensorboard<2.14,>=2.13->tensorflow) (3.10)\n",
            "Requirement already satisfied: urllib3<3,>=1.21.1 in /usr/local/lib/python3.10/dist-packages (from requests<3,>=2.21.0->tensorboard<2.14,>=2.13->tensorflow) (2.2.3)\n",
            "Requirement already satisfied: certifi>=2017.4.17 in /usr/local/lib/python3.10/dist-packages (from requests<3,>=2.21.0->tensorboard<2.14,>=2.13->tensorflow) (2024.8.30)\n",
            "Requirement already satisfied: MarkupSafe>=2.1.1 in /usr/local/lib/python3.10/dist-packages (from werkzeug>=1.0.1->tensorboard<2.14,>=2.13->tensorflow) (3.0.2)\n",
            "Requirement already satisfied: pyasn1<0.7.0,>=0.4.6 in /usr/local/lib/python3.10/dist-packages (from pyasn1-modules>=0.2.1->google-auth<3,>=1.6.3->tensorboard<2.14,>=2.13->tensorflow) (0.6.1)\n",
            "Requirement already satisfied: oauthlib>=3.0.0 in /usr/local/lib/python3.10/dist-packages (from requests-oauthlib>=0.7.0->google-auth-oauthlib<1.1,>=0.5->tensorboard<2.14,>=2.13->tensorflow) (3.2.2)\n"
          ]
        }
      ]
    },
    {
      "cell_type": "code",
      "source": [
        "from tensorflow.keras.preprocessing.sequence import pad_sequences\n",
        "from tensorflow.keras.preprocessing.text import Tokenizer\n"
      ],
      "metadata": {
        "id": "wzGQDC87YStU"
      },
      "execution_count": 2,
      "outputs": []
    },
    {
      "cell_type": "code",
      "source": [
        "!pip install tensorflow==2.13.0 pandas numpy matplotlib scikit-learn PyPDF2 streamlit\n"
      ],
      "metadata": {
        "colab": {
          "base_uri": "https://localhost:8080/"
        },
        "id": "IEVAj8KTYh1C",
        "outputId": "ee767404-b8c6-448f-a4f6-9579397583b4"
      },
      "execution_count": 1,
      "outputs": [
        {
          "output_type": "stream",
          "name": "stdout",
          "text": [
            "Requirement already satisfied: tensorflow==2.13.0 in /usr/local/lib/python3.10/dist-packages (2.13.0)\n",
            "Requirement already satisfied: pandas in /usr/local/lib/python3.10/dist-packages (2.2.2)\n",
            "Requirement already satisfied: numpy in /usr/local/lib/python3.10/dist-packages (1.24.3)\n",
            "Requirement already satisfied: matplotlib in /usr/local/lib/python3.10/dist-packages (3.8.0)\n",
            "Requirement already satisfied: scikit-learn in /usr/local/lib/python3.10/dist-packages (1.5.2)\n",
            "Requirement already satisfied: PyPDF2 in /usr/local/lib/python3.10/dist-packages (3.0.1)\n",
            "Requirement already satisfied: streamlit in /usr/local/lib/python3.10/dist-packages (1.40.1)\n",
            "Requirement already satisfied: absl-py>=1.0.0 in /usr/local/lib/python3.10/dist-packages (from tensorflow==2.13.0) (1.4.0)\n",
            "Requirement already satisfied: astunparse>=1.6.0 in /usr/local/lib/python3.10/dist-packages (from tensorflow==2.13.0) (1.6.3)\n",
            "Requirement already satisfied: flatbuffers>=23.1.21 in /usr/local/lib/python3.10/dist-packages (from tensorflow==2.13.0) (24.3.25)\n",
            "Requirement already satisfied: gast<=0.4.0,>=0.2.1 in /usr/local/lib/python3.10/dist-packages (from tensorflow==2.13.0) (0.4.0)\n",
            "Requirement already satisfied: google-pasta>=0.1.1 in /usr/local/lib/python3.10/dist-packages (from tensorflow==2.13.0) (0.2.0)\n",
            "Requirement already satisfied: grpcio<2.0,>=1.24.3 in /usr/local/lib/python3.10/dist-packages (from tensorflow==2.13.0) (1.68.0)\n",
            "Requirement already satisfied: h5py>=2.9.0 in /usr/local/lib/python3.10/dist-packages (from tensorflow==2.13.0) (3.12.1)\n",
            "Requirement already satisfied: keras<2.14,>=2.13.1 in /usr/local/lib/python3.10/dist-packages (from tensorflow==2.13.0) (2.13.1)\n",
            "Requirement already satisfied: libclang>=13.0.0 in /usr/local/lib/python3.10/dist-packages (from tensorflow==2.13.0) (18.1.1)\n",
            "Requirement already satisfied: opt-einsum>=2.3.2 in /usr/local/lib/python3.10/dist-packages (from tensorflow==2.13.0) (3.4.0)\n",
            "Requirement already satisfied: packaging in /usr/local/lib/python3.10/dist-packages (from tensorflow==2.13.0) (24.2)\n",
            "Requirement already satisfied: protobuf!=4.21.0,!=4.21.1,!=4.21.2,!=4.21.3,!=4.21.4,!=4.21.5,<5.0.0dev,>=3.20.3 in /usr/local/lib/python3.10/dist-packages (from tensorflow==2.13.0) (4.25.5)\n",
            "Requirement already satisfied: setuptools in /usr/local/lib/python3.10/dist-packages (from tensorflow==2.13.0) (75.6.0)\n",
            "Requirement already satisfied: six>=1.12.0 in /usr/local/lib/python3.10/dist-packages (from tensorflow==2.13.0) (1.16.0)\n",
            "Requirement already satisfied: tensorboard<2.14,>=2.13 in /usr/local/lib/python3.10/dist-packages (from tensorflow==2.13.0) (2.13.0)\n",
            "Requirement already satisfied: tensorflow-estimator<2.14,>=2.13.0 in /usr/local/lib/python3.10/dist-packages (from tensorflow==2.13.0) (2.13.0)\n",
            "Requirement already satisfied: termcolor>=1.1.0 in /usr/local/lib/python3.10/dist-packages (from tensorflow==2.13.0) (2.5.0)\n",
            "Requirement already satisfied: typing-extensions<4.6.0,>=3.6.6 in /usr/local/lib/python3.10/dist-packages (from tensorflow==2.13.0) (4.5.0)\n",
            "Requirement already satisfied: wrapt>=1.11.0 in /usr/local/lib/python3.10/dist-packages (from tensorflow==2.13.0) (1.16.0)\n",
            "Requirement already satisfied: tensorflow-io-gcs-filesystem>=0.23.1 in /usr/local/lib/python3.10/dist-packages (from tensorflow==2.13.0) (0.37.1)\n",
            "Requirement already satisfied: python-dateutil>=2.8.2 in /usr/local/lib/python3.10/dist-packages (from pandas) (2.8.2)\n",
            "Requirement already satisfied: pytz>=2020.1 in /usr/local/lib/python3.10/dist-packages (from pandas) (2024.2)\n",
            "Requirement already satisfied: tzdata>=2022.7 in /usr/local/lib/python3.10/dist-packages (from pandas) (2024.2)\n",
            "Requirement already satisfied: contourpy>=1.0.1 in /usr/local/lib/python3.10/dist-packages (from matplotlib) (1.3.1)\n",
            "Requirement already satisfied: cycler>=0.10 in /usr/local/lib/python3.10/dist-packages (from matplotlib) (0.12.1)\n",
            "Requirement already satisfied: fonttools>=4.22.0 in /usr/local/lib/python3.10/dist-packages (from matplotlib) (4.55.0)\n",
            "Requirement already satisfied: kiwisolver>=1.0.1 in /usr/local/lib/python3.10/dist-packages (from matplotlib) (1.4.7)\n",
            "Requirement already satisfied: pillow>=6.2.0 in /usr/local/lib/python3.10/dist-packages (from matplotlib) (11.0.0)\n",
            "Requirement already satisfied: pyparsing>=2.3.1 in /usr/local/lib/python3.10/dist-packages (from matplotlib) (3.2.0)\n",
            "Requirement already satisfied: scipy>=1.6.0 in /usr/local/lib/python3.10/dist-packages (from scikit-learn) (1.13.1)\n",
            "Requirement already satisfied: joblib>=1.2.0 in /usr/local/lib/python3.10/dist-packages (from scikit-learn) (1.4.2)\n",
            "Requirement already satisfied: threadpoolctl>=3.1.0 in /usr/local/lib/python3.10/dist-packages (from scikit-learn) (3.5.0)\n",
            "Requirement already satisfied: altair<6,>=4.0 in /usr/local/lib/python3.10/dist-packages (from streamlit) (4.2.2)\n",
            "Requirement already satisfied: blinker<2,>=1.0.0 in /usr/local/lib/python3.10/dist-packages (from streamlit) (1.9.0)\n",
            "Requirement already satisfied: cachetools<6,>=4.0 in /usr/local/lib/python3.10/dist-packages (from streamlit) (5.5.0)\n",
            "Requirement already satisfied: click<9,>=7.0 in /usr/local/lib/python3.10/dist-packages (from streamlit) (8.1.7)\n",
            "Requirement already satisfied: pyarrow>=7.0 in /usr/local/lib/python3.10/dist-packages (from streamlit) (17.0.0)\n",
            "Requirement already satisfied: requests<3,>=2.27 in /usr/local/lib/python3.10/dist-packages (from streamlit) (2.32.3)\n",
            "Requirement already satisfied: rich<14,>=10.14.0 in /usr/local/lib/python3.10/dist-packages (from streamlit) (13.9.4)\n",
            "Requirement already satisfied: tenacity<10,>=8.1.0 in /usr/local/lib/python3.10/dist-packages (from streamlit) (9.0.0)\n",
            "Requirement already satisfied: toml<2,>=0.10.1 in /usr/local/lib/python3.10/dist-packages (from streamlit) (0.10.2)\n",
            "Requirement already satisfied: gitpython!=3.1.19,<4,>=3.0.7 in /usr/local/lib/python3.10/dist-packages (from streamlit) (3.1.43)\n",
            "Requirement already satisfied: pydeck<1,>=0.8.0b4 in /usr/local/lib/python3.10/dist-packages (from streamlit) (0.9.1)\n",
            "Requirement already satisfied: tornado<7,>=6.0.3 in /usr/local/lib/python3.10/dist-packages (from streamlit) (6.3.3)\n",
            "Requirement already satisfied: watchdog<7,>=2.1.5 in /usr/local/lib/python3.10/dist-packages (from streamlit) (6.0.0)\n",
            "Requirement already satisfied: entrypoints in /usr/local/lib/python3.10/dist-packages (from altair<6,>=4.0->streamlit) (0.4)\n",
            "Requirement already satisfied: jinja2 in /usr/local/lib/python3.10/dist-packages (from altair<6,>=4.0->streamlit) (3.1.4)\n",
            "Requirement already satisfied: jsonschema>=3.0 in /usr/local/lib/python3.10/dist-packages (from altair<6,>=4.0->streamlit) (4.23.0)\n",
            "Requirement already satisfied: toolz in /usr/local/lib/python3.10/dist-packages (from altair<6,>=4.0->streamlit) (0.12.1)\n",
            "Requirement already satisfied: wheel<1.0,>=0.23.0 in /usr/local/lib/python3.10/dist-packages (from astunparse>=1.6.0->tensorflow==2.13.0) (0.45.0)\n",
            "Requirement already satisfied: gitdb<5,>=4.0.1 in /usr/local/lib/python3.10/dist-packages (from gitpython!=3.1.19,<4,>=3.0.7->streamlit) (4.0.11)\n",
            "Requirement already satisfied: charset-normalizer<4,>=2 in /usr/local/lib/python3.10/dist-packages (from requests<3,>=2.27->streamlit) (3.4.0)\n",
            "Requirement already satisfied: idna<4,>=2.5 in /usr/local/lib/python3.10/dist-packages (from requests<3,>=2.27->streamlit) (3.10)\n",
            "Requirement already satisfied: urllib3<3,>=1.21.1 in /usr/local/lib/python3.10/dist-packages (from requests<3,>=2.27->streamlit) (2.2.3)\n",
            "Requirement already satisfied: certifi>=2017.4.17 in /usr/local/lib/python3.10/dist-packages (from requests<3,>=2.27->streamlit) (2024.8.30)\n",
            "Requirement already satisfied: markdown-it-py>=2.2.0 in /usr/local/lib/python3.10/dist-packages (from rich<14,>=10.14.0->streamlit) (3.0.0)\n",
            "Requirement already satisfied: pygments<3.0.0,>=2.13.0 in /usr/local/lib/python3.10/dist-packages (from rich<14,>=10.14.0->streamlit) (2.18.0)\n",
            "Requirement already satisfied: google-auth<3,>=1.6.3 in /usr/local/lib/python3.10/dist-packages (from tensorboard<2.14,>=2.13->tensorflow==2.13.0) (2.27.0)\n",
            "Requirement already satisfied: google-auth-oauthlib<1.1,>=0.5 in /usr/local/lib/python3.10/dist-packages (from tensorboard<2.14,>=2.13->tensorflow==2.13.0) (1.0.0)\n",
            "Requirement already satisfied: markdown>=2.6.8 in /usr/local/lib/python3.10/dist-packages (from tensorboard<2.14,>=2.13->tensorflow==2.13.0) (3.7)\n",
            "Requirement already satisfied: tensorboard-data-server<0.8.0,>=0.7.0 in /usr/local/lib/python3.10/dist-packages (from tensorboard<2.14,>=2.13->tensorflow==2.13.0) (0.7.2)\n",
            "Requirement already satisfied: werkzeug>=1.0.1 in /usr/local/lib/python3.10/dist-packages (from tensorboard<2.14,>=2.13->tensorflow==2.13.0) (3.1.3)\n",
            "Requirement already satisfied: smmap<6,>=3.0.1 in /usr/local/lib/python3.10/dist-packages (from gitdb<5,>=4.0.1->gitpython!=3.1.19,<4,>=3.0.7->streamlit) (5.0.1)\n",
            "Requirement already satisfied: pyasn1-modules>=0.2.1 in /usr/local/lib/python3.10/dist-packages (from google-auth<3,>=1.6.3->tensorboard<2.14,>=2.13->tensorflow==2.13.0) (0.4.1)\n",
            "Requirement already satisfied: rsa<5,>=3.1.4 in /usr/local/lib/python3.10/dist-packages (from google-auth<3,>=1.6.3->tensorboard<2.14,>=2.13->tensorflow==2.13.0) (4.9)\n",
            "Requirement already satisfied: requests-oauthlib>=0.7.0 in /usr/local/lib/python3.10/dist-packages (from google-auth-oauthlib<1.1,>=0.5->tensorboard<2.14,>=2.13->tensorflow==2.13.0) (1.3.1)\n",
            "Requirement already satisfied: MarkupSafe>=2.0 in /usr/local/lib/python3.10/dist-packages (from jinja2->altair<6,>=4.0->streamlit) (3.0.2)\n",
            "Requirement already satisfied: attrs>=22.2.0 in /usr/local/lib/python3.10/dist-packages (from jsonschema>=3.0->altair<6,>=4.0->streamlit) (24.2.0)\n",
            "Requirement already satisfied: jsonschema-specifications>=2023.03.6 in /usr/local/lib/python3.10/dist-packages (from jsonschema>=3.0->altair<6,>=4.0->streamlit) (2024.10.1)\n",
            "Requirement already satisfied: referencing>=0.28.4 in /usr/local/lib/python3.10/dist-packages (from jsonschema>=3.0->altair<6,>=4.0->streamlit) (0.35.1)\n",
            "Requirement already satisfied: rpds-py>=0.7.1 in /usr/local/lib/python3.10/dist-packages (from jsonschema>=3.0->altair<6,>=4.0->streamlit) (0.21.0)\n",
            "Requirement already satisfied: mdurl~=0.1 in /usr/local/lib/python3.10/dist-packages (from markdown-it-py>=2.2.0->rich<14,>=10.14.0->streamlit) (0.1.2)\n",
            "Requirement already satisfied: pyasn1<0.7.0,>=0.4.6 in /usr/local/lib/python3.10/dist-packages (from pyasn1-modules>=0.2.1->google-auth<3,>=1.6.3->tensorboard<2.14,>=2.13->tensorflow==2.13.0) (0.6.1)\n",
            "Requirement already satisfied: oauthlib>=3.0.0 in /usr/local/lib/python3.10/dist-packages (from requests-oauthlib>=0.7.0->google-auth-oauthlib<1.1,>=0.5->tensorboard<2.14,>=2.13->tensorflow==2.13.0) (3.2.2)\n"
          ]
        }
      ]
    },
    {
      "cell_type": "code",
      "source": [
        "# Check for missing values in the 'dialogue' and 'summary' columns\n",
        "df.isna().sum()\n"
      ],
      "metadata": {
        "colab": {
          "base_uri": "https://localhost:8080/",
          "height": 178
        },
        "id": "VNRSU7rDZb1D",
        "outputId": "00b31013-1d77-4302-e633-00e472f40ed3"
      },
      "execution_count": 11,
      "outputs": [
        {
          "output_type": "execute_result",
          "data": {
            "text/plain": [
              "id          0\n",
              "dialogue    0\n",
              "summary     0\n",
              "dtype: int64"
            ],
            "text/html": [
              "<div>\n",
              "<style scoped>\n",
              "    .dataframe tbody tr th:only-of-type {\n",
              "        vertical-align: middle;\n",
              "    }\n",
              "\n",
              "    .dataframe tbody tr th {\n",
              "        vertical-align: top;\n",
              "    }\n",
              "\n",
              "    .dataframe thead th {\n",
              "        text-align: right;\n",
              "    }\n",
              "</style>\n",
              "<table border=\"1\" class=\"dataframe\">\n",
              "  <thead>\n",
              "    <tr style=\"text-align: right;\">\n",
              "      <th></th>\n",
              "      <th>0</th>\n",
              "    </tr>\n",
              "  </thead>\n",
              "  <tbody>\n",
              "    <tr>\n",
              "      <th>id</th>\n",
              "      <td>0</td>\n",
              "    </tr>\n",
              "    <tr>\n",
              "      <th>dialogue</th>\n",
              "      <td>0</td>\n",
              "    </tr>\n",
              "    <tr>\n",
              "      <th>summary</th>\n",
              "      <td>0</td>\n",
              "    </tr>\n",
              "  </tbody>\n",
              "</table>\n",
              "</div><br><label><b>dtype:</b> int64</label>"
            ]
          },
          "metadata": {},
          "execution_count": 11
        }
      ]
    },
    {
      "cell_type": "code",
      "source": [
        "# Remove rows with missing input or target texts\n",
        "df = df.dropna(subset=['dialogue', 'summary'])\n"
      ],
      "metadata": {
        "id": "_eLua6_5ZfEX"
      },
      "execution_count": 10,
      "outputs": []
    },
    {
      "cell_type": "code",
      "source": [
        "# Prepare input and target sequences after handling missing values\n",
        "input_texts = df['dialogue']\n",
        "target_texts = df['summary']\n",
        "\n",
        "# Tokenizer for the vocabulary\n",
        "tokenizer = Tokenizer()\n",
        "tokenizer.fit_on_texts(input_texts + target_texts)\n",
        "\n",
        "# Convert texts to sequences\n",
        "input_sequences = tokenizer.texts_to_sequences(input_texts)\n",
        "target_sequences = tokenizer.texts_to_sequences(target_texts)\n",
        "\n",
        "# Find max sequence lengths\n",
        "max_input_len = max([len(seq) for seq in input_sequences])\n",
        "max_target_len = max([len(seq) for seq in target_sequences])\n",
        "\n",
        "# Pad sequences\n",
        "input_sequences = pad_sequences(input_sequences, maxlen=max_input_len)\n",
        "target_sequences = pad_sequences(target_sequences, maxlen=max_target_len)\n",
        "\n",
        "# Define vocabulary size\n",
        "vocab_size = len(tokenizer.word_index) + 1\n"
      ],
      "metadata": {
        "id": "3KzCpZyAZozj"
      },
      "execution_count": 13,
      "outputs": []
    },
    {
      "cell_type": "code",
      "source": [
        "# Assuming you have already tokenized input_texts and target_texts\n",
        "input_texts = [\"text1\", \"text2\", \"text3\"]  # Example input texts\n",
        "target_texts = [\"summary1\", \"summary2\", \"summary3\"]  # Example target summaries\n",
        "\n",
        "# Tokenizer setup\n",
        "from tensorflow.keras.preprocessing.text import Tokenizer\n",
        "\n",
        "tokenizer = Tokenizer()\n",
        "tokenizer.fit_on_texts(input_texts + target_texts)\n",
        "\n",
        "# Convert texts to sequences\n",
        "input_sequences = tokenizer.texts_to_sequences(input_texts)\n",
        "target_sequences = tokenizer.texts_to_sequences(target_texts)\n",
        "\n",
        "# Pad sequences to ensure consistent sequence length\n",
        "from tensorflow.keras.preprocessing.sequence import pad_sequences\n",
        "\n",
        "max_input_len = max([len(seq) for seq in input_sequences])\n",
        "max_target_len = max([len(seq) for seq in target_sequences])\n",
        "\n",
        "input_sequences = pad_sequences(input_sequences, maxlen=max_input_len, padding='post')\n",
        "target_sequences = pad_sequences(target_sequences, maxlen=max_target_len, padding='post')\n",
        "\n",
        "# Now we can proceed with one-hot encoding\n",
        "vocab_size = len(tokenizer.word_index) + 1  # Include 0 for padding\n",
        "\n",
        "# Function to one-hot encode the sequences\n",
        "import numpy as np\n",
        "def one_hot_encode(sequences, vocab_size):\n",
        "    one_hot_encoded = np.zeros((sequences.shape[0], sequences.shape[1], vocab_size))\n",
        "    for i, seq in enumerate(sequences):\n",
        "        for t, word_index in enumerate(seq):\n",
        "            if word_index != 0:  # Ensure we don't one-hot encode the padding token\n",
        "                one_hot_encoded[i, t, word_index] = 1\n",
        "    return one_hot_encoded\n",
        "\n",
        "# One-hot encode the target sequences\n",
        "target_sequences_one_hot = one_hot_encode(target_sequences, vocab_size)\n",
        "\n",
        "# Check the shape of the encoded sequences\n",
        "print(target_sequences_one_hot.shape)  # It should be (num_samples, max_target_len, vocab_size)\n"
      ],
      "metadata": {
        "colab": {
          "base_uri": "https://localhost:8080/"
        },
        "id": "LbKUt5rDZ5FG",
        "outputId": "8a909284-b585-416f-ccb4-27cb8d54842f"
      },
      "execution_count": 2,
      "outputs": [
        {
          "output_type": "stream",
          "name": "stdout",
          "text": [
            "(3, 1, 7)\n"
          ]
        }
      ]
    },
    {
      "cell_type": "markdown",
      "source": [
        "![Encoder-decoder-architecture-for-sequence-to-sequence-WSD-with-attention-on-bigrams-S.png](data:image/png;base64,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)"
      ],
      "metadata": {
        "id": "BHVdNgkxqQpa"
      }
    },
    {
      "cell_type": "code",
      "source": [
        "from tensorflow.keras.layers import Input, Embedding, LSTM, Dense, TimeDistributed, Attention\n",
        "from tensorflow.keras.models import Model  # Importing Model class\n",
        "\n",
        "# Encoder-Decoder model with attention\n",
        "def create_encoder_decoder_with_attention(vocab_size, max_input_len, max_target_len):\n",
        "    input_layer = Input(shape=(max_input_len,))\n",
        "    embedding_layer = Embedding(input_dim=vocab_size, output_dim=256, input_length=max_input_len)(input_layer)\n",
        "\n",
        "    # Encoder LSTM\n",
        "    encoder_lstm = LSTM(256, return_state=True)\n",
        "    encoder_output, state_h, state_c = encoder_lstm(embedding_layer)\n",
        "\n",
        "    # Decoder LSTM\n",
        "    decoder_lstm = LSTM(256, return_sequences=True, return_state=True)\n",
        "    decoder_output, _, _ = decoder_lstm(embedding_layer, initial_state=[state_h, state_c])\n",
        "\n",
        "    # Attention layer\n",
        "    attention_layer = Attention()([decoder_output, encoder_output])  # Align decoder and encoder output\n",
        "    context_vector = attention_layer\n",
        "\n",
        "    # Dense layer\n",
        "    output_layer = TimeDistributed(Dense(vocab_size, activation='softmax'))(context_vector)\n",
        "\n",
        "    model = Model(inputs=input_layer, outputs=output_layer)\n",
        "    model.compile(loss='categorical_crossentropy', optimizer='adam', metrics=['accuracy'])\n",
        "    return model\n",
        "\n",
        "# Assuming vocab_size, max_input_len, and max_target_len are already defined\n",
        "# Create the model\n",
        "attention_model = create_encoder_decoder_with_attention(vocab_size, max_input_len, max_target_len)\n",
        "\n",
        "# Train the model\n",
        "attention_model.fit(input_sequences, target_sequences_one_hot, epochs=50, batch_size=32)\n"
      ],
      "metadata": {
        "colab": {
          "base_uri": "https://localhost:8080/"
        },
        "id": "XAWu9kGmawcD",
        "outputId": "da92704e-7012-4a32-dbb9-7cc697443083"
      },
      "execution_count": 30,
      "outputs": [
        {
          "output_type": "stream",
          "name": "stdout",
          "text": [
            "Epoch 1/50\n",
            "1/1 [==============================] - 4s 4s/step - loss: 1.9455 - accuracy: 0.0000e+00\n",
            "Epoch 2/50\n",
            "1/1 [==============================] - 0s 32ms/step - loss: 1.9340 - accuracy: 0.3333\n",
            "Epoch 3/50\n",
            "1/1 [==============================] - 0s 29ms/step - loss: 1.9224 - accuracy: 0.3333\n",
            "Epoch 4/50\n",
            "1/1 [==============================] - 0s 35ms/step - loss: 1.9102 - accuracy: 0.3333\n",
            "Epoch 5/50\n",
            "1/1 [==============================] - 0s 35ms/step - loss: 1.8972 - accuracy: 0.3333\n",
            "Epoch 6/50\n",
            "1/1 [==============================] - 0s 37ms/step - loss: 1.8831 - accuracy: 0.3333\n",
            "Epoch 7/50\n",
            "1/1 [==============================] - 0s 38ms/step - loss: 1.8677 - accuracy: 0.3333\n",
            "Epoch 8/50\n",
            "1/1 [==============================] - 0s 28ms/step - loss: 1.8509 - accuracy: 0.3333\n",
            "Epoch 9/50\n",
            "1/1 [==============================] - 0s 25ms/step - loss: 1.8324 - accuracy: 0.3333\n",
            "Epoch 10/50\n",
            "1/1 [==============================] - 0s 19ms/step - loss: 1.8121 - accuracy: 0.3333\n",
            "Epoch 11/50\n",
            "1/1 [==============================] - 0s 19ms/step - loss: 1.7899 - accuracy: 0.3333\n",
            "Epoch 12/50\n",
            "1/1 [==============================] - 0s 19ms/step - loss: 1.7657 - accuracy: 0.3333\n",
            "Epoch 13/50\n",
            "1/1 [==============================] - 0s 27ms/step - loss: 1.7393 - accuracy: 0.3333\n",
            "Epoch 14/50\n",
            "1/1 [==============================] - 0s 20ms/step - loss: 1.7109 - accuracy: 0.3333\n",
            "Epoch 15/50\n",
            "1/1 [==============================] - 0s 19ms/step - loss: 1.6804 - accuracy: 0.3333\n",
            "Epoch 16/50\n",
            "1/1 [==============================] - 0s 18ms/step - loss: 1.6479 - accuracy: 0.3333\n",
            "Epoch 17/50\n",
            "1/1 [==============================] - 0s 19ms/step - loss: 1.6134 - accuracy: 0.3333\n",
            "Epoch 18/50\n",
            "1/1 [==============================] - 0s 25ms/step - loss: 1.5773 - accuracy: 0.3333\n",
            "Epoch 19/50\n",
            "1/1 [==============================] - 0s 23ms/step - loss: 1.5398 - accuracy: 0.3333\n",
            "Epoch 20/50\n",
            "1/1 [==============================] - 0s 24ms/step - loss: 1.5012 - accuracy: 0.3333\n",
            "Epoch 21/50\n",
            "1/1 [==============================] - 0s 35ms/step - loss: 1.4621 - accuracy: 0.3333\n",
            "Epoch 22/50\n",
            "1/1 [==============================] - 0s 24ms/step - loss: 1.4230 - accuracy: 0.3333\n",
            "Epoch 23/50\n",
            "1/1 [==============================] - 0s 29ms/step - loss: 1.3845 - accuracy: 0.3333\n",
            "Epoch 24/50\n",
            "1/1 [==============================] - 0s 31ms/step - loss: 1.3473 - accuracy: 0.3333\n",
            "Epoch 25/50\n",
            "1/1 [==============================] - 0s 26ms/step - loss: 1.3121 - accuracy: 0.3333\n",
            "Epoch 26/50\n",
            "1/1 [==============================] - 0s 26ms/step - loss: 1.2794 - accuracy: 0.3333\n",
            "Epoch 27/50\n",
            "1/1 [==============================] - 0s 25ms/step - loss: 1.2497 - accuracy: 0.3333\n",
            "Epoch 28/50\n",
            "1/1 [==============================] - 0s 28ms/step - loss: 1.2234 - accuracy: 0.3333\n",
            "Epoch 29/50\n",
            "1/1 [==============================] - 0s 27ms/step - loss: 1.2004 - accuracy: 0.3333\n",
            "Epoch 30/50\n",
            "1/1 [==============================] - 0s 28ms/step - loss: 1.1808 - accuracy: 0.3333\n",
            "Epoch 31/50\n",
            "1/1 [==============================] - 0s 25ms/step - loss: 1.1643 - accuracy: 0.3333\n",
            "Epoch 32/50\n",
            "1/1 [==============================] - 0s 21ms/step - loss: 1.1505 - accuracy: 0.3333\n",
            "Epoch 33/50\n",
            "1/1 [==============================] - 0s 20ms/step - loss: 1.1391 - accuracy: 0.3333\n",
            "Epoch 34/50\n",
            "1/1 [==============================] - 0s 21ms/step - loss: 1.1299 - accuracy: 0.3333\n",
            "Epoch 35/50\n",
            "1/1 [==============================] - 0s 20ms/step - loss: 1.1227 - accuracy: 0.3333\n",
            "Epoch 36/50\n",
            "1/1 [==============================] - 0s 19ms/step - loss: 1.1172 - accuracy: 0.3333\n",
            "Epoch 37/50\n",
            "1/1 [==============================] - 0s 24ms/step - loss: 1.1133 - accuracy: 0.3333\n",
            "Epoch 38/50\n",
            "1/1 [==============================] - 0s 21ms/step - loss: 1.1106 - accuracy: 0.3333\n",
            "Epoch 39/50\n",
            "1/1 [==============================] - 0s 21ms/step - loss: 1.1087 - accuracy: 0.3333\n",
            "Epoch 40/50\n",
            "1/1 [==============================] - 0s 20ms/step - loss: 1.1071 - accuracy: 0.3333\n",
            "Epoch 41/50\n",
            "1/1 [==============================] - 0s 21ms/step - loss: 1.1057 - accuracy: 0.3333\n",
            "Epoch 42/50\n",
            "1/1 [==============================] - 0s 21ms/step - loss: 1.1042 - accuracy: 0.3333\n",
            "Epoch 43/50\n",
            "1/1 [==============================] - 0s 22ms/step - loss: 1.1029 - accuracy: 0.3333\n",
            "Epoch 44/50\n",
            "1/1 [==============================] - 0s 21ms/step - loss: 1.1018 - accuracy: 0.3333\n",
            "Epoch 45/50\n",
            "1/1 [==============================] - 0s 21ms/step - loss: 1.1013 - accuracy: 0.3333\n",
            "Epoch 46/50\n",
            "1/1 [==============================] - 0s 20ms/step - loss: 1.1011 - accuracy: 0.3333\n",
            "Epoch 47/50\n",
            "1/1 [==============================] - 0s 19ms/step - loss: 1.1011 - accuracy: 0.3333\n",
            "Epoch 48/50\n",
            "1/1 [==============================] - 0s 22ms/step - loss: 1.1009 - accuracy: 0.3333\n",
            "Epoch 49/50\n",
            "1/1 [==============================] - 0s 19ms/step - loss: 1.1005 - accuracy: 0.3333\n",
            "Epoch 50/50\n",
            "1/1 [==============================] - 0s 21ms/step - loss: 1.1000 - accuracy: 0.3333\n"
          ]
        },
        {
          "output_type": "execute_result",
          "data": {
            "text/plain": [
              "<keras.src.callbacks.History at 0x7dd076badc90>"
            ]
          },
          "metadata": {},
          "execution_count": 30
        }
      ]
    },
    {
      "cell_type": "code",
      "source": [
        "attention_model.fit(input_sequences, target_sequences_one_hot, epochs=3, batch_size=32)\n"
      ],
      "metadata": {
        "colab": {
          "base_uri": "https://localhost:8080/"
        },
        "id": "7wHs8-WCbKwO",
        "outputId": "59676f51-af55-43e6-9c77-9112c8baf888"
      },
      "execution_count": 6,
      "outputs": [
        {
          "output_type": "stream",
          "name": "stdout",
          "text": [
            "Epoch 1/3\n",
            "1/1 [==============================] - 0s 22ms/step - loss: 1.9115 - accuracy: 0.3333\n",
            "Epoch 2/3\n",
            "1/1 [==============================] - 0s 18ms/step - loss: 1.8992 - accuracy: 0.3333\n",
            "Epoch 3/3\n",
            "1/1 [==============================] - 0s 18ms/step - loss: 1.8858 - accuracy: 0.3333\n"
          ]
        },
        {
          "output_type": "execute_result",
          "data": {
            "text/plain": [
              "<keras.src.callbacks.History at 0x7dd16f03ee30>"
            ]
          },
          "metadata": {},
          "execution_count": 6
        }
      ]
    },
    {
      "cell_type": "code",
      "source": [
        "# Encoder-Decoder model without attention\n",
        "def create_encoder_decoder_without_attention(vocab_size, max_input_len, max_target_len):\n",
        "    input_layer = Input(shape=(max_input_len,))\n",
        "    embedding_layer = Embedding(input_dim=vocab_size, output_dim=256, input_length=max_input_len)(input_layer)\n",
        "\n",
        "    # Encoder LSTM\n",
        "    encoder_lstm = LSTM(256, return_state=True)\n",
        "    encoder_output, state_h, state_c = encoder_lstm(embedding_layer)\n",
        "\n",
        "    # Decoder LSTM\n",
        "    decoder_lstm = LSTM(256, return_sequences=True, return_state=True)\n",
        "    decoder_output, _, _ = decoder_lstm(embedding_layer, initial_state=[state_h, state_c])\n",
        "\n",
        "    # Dense layer\n",
        "    output_layer = TimeDistributed(Dense(vocab_size, activation='softmax'))(decoder_output)\n",
        "\n",
        "    model = Model(inputs=input_layer, outputs=output_layer)\n",
        "    model.compile(loss='categorical_crossentropy', optimizer='adam', metrics=['accuracy'])\n",
        "    return model\n",
        "\n",
        "# Create the model without attention\n",
        "no_attention_model = create_encoder_decoder_without_attention(vocab_size, max_input_len, max_target_len)\n",
        "\n",
        "# Train the model without attention\n",
        "no_attention_model.fit(input_sequences, target_sequences_one_hot, epochs=50, batch_size=32)\n"
      ],
      "metadata": {
        "colab": {
          "base_uri": "https://localhost:8080/"
        },
        "id": "NbV_VM1jbVLC",
        "outputId": "53125d6f-66dc-4498-d86e-a451a4cb3f29"
      },
      "execution_count": 31,
      "outputs": [
        {
          "output_type": "stream",
          "name": "stdout",
          "text": [
            "Epoch 1/50\n",
            "1/1 [==============================] - 5s 5s/step - loss: 1.9485 - accuracy: 0.0000e+00\n",
            "Epoch 2/50\n",
            "1/1 [==============================] - 0s 22ms/step - loss: 1.9069 - accuracy: 1.0000\n",
            "Epoch 3/50\n",
            "1/1 [==============================] - 0s 20ms/step - loss: 1.8648 - accuracy: 1.0000\n",
            "Epoch 4/50\n",
            "1/1 [==============================] - 0s 21ms/step - loss: 1.8215 - accuracy: 1.0000\n",
            "Epoch 5/50\n",
            "1/1 [==============================] - 0s 20ms/step - loss: 1.7760 - accuracy: 1.0000\n",
            "Epoch 6/50\n",
            "1/1 [==============================] - 0s 22ms/step - loss: 1.7276 - accuracy: 1.0000\n",
            "Epoch 7/50\n",
            "1/1 [==============================] - 0s 20ms/step - loss: 1.6757 - accuracy: 1.0000\n",
            "Epoch 8/50\n",
            "1/1 [==============================] - 0s 32ms/step - loss: 1.6195 - accuracy: 1.0000\n",
            "Epoch 9/50\n",
            "1/1 [==============================] - 0s 28ms/step - loss: 1.5586 - accuracy: 1.0000\n",
            "Epoch 10/50\n",
            "1/1 [==============================] - 0s 35ms/step - loss: 1.4925 - accuracy: 1.0000\n",
            "Epoch 11/50\n",
            "1/1 [==============================] - 0s 26ms/step - loss: 1.4208 - accuracy: 1.0000\n",
            "Epoch 12/50\n",
            "1/1 [==============================] - 0s 29ms/step - loss: 1.3431 - accuracy: 1.0000\n",
            "Epoch 13/50\n",
            "1/1 [==============================] - 0s 32ms/step - loss: 1.2592 - accuracy: 1.0000\n",
            "Epoch 14/50\n",
            "1/1 [==============================] - 0s 25ms/step - loss: 1.1691 - accuracy: 1.0000\n",
            "Epoch 15/50\n",
            "1/1 [==============================] - 0s 26ms/step - loss: 1.0732 - accuracy: 1.0000\n",
            "Epoch 16/50\n",
            "1/1 [==============================] - 0s 26ms/step - loss: 0.9719 - accuracy: 1.0000\n",
            "Epoch 17/50\n",
            "1/1 [==============================] - 0s 26ms/step - loss: 0.8663 - accuracy: 1.0000\n",
            "Epoch 18/50\n",
            "1/1 [==============================] - 0s 34ms/step - loss: 0.7580 - accuracy: 1.0000\n",
            "Epoch 19/50\n",
            "1/1 [==============================] - 0s 29ms/step - loss: 0.6492 - accuracy: 1.0000\n",
            "Epoch 20/50\n",
            "1/1 [==============================] - 0s 33ms/step - loss: 0.5426 - accuracy: 1.0000\n",
            "Epoch 21/50\n",
            "1/1 [==============================] - 0s 25ms/step - loss: 0.4412 - accuracy: 1.0000\n",
            "Epoch 22/50\n",
            "1/1 [==============================] - 0s 28ms/step - loss: 0.3483 - accuracy: 1.0000\n",
            "Epoch 23/50\n",
            "1/1 [==============================] - 0s 28ms/step - loss: 0.2666 - accuracy: 1.0000\n",
            "Epoch 24/50\n",
            "1/1 [==============================] - 0s 31ms/step - loss: 0.1979 - accuracy: 1.0000\n",
            "Epoch 25/50\n",
            "1/1 [==============================] - 0s 25ms/step - loss: 0.1428 - accuracy: 1.0000\n",
            "Epoch 26/50\n",
            "1/1 [==============================] - 0s 34ms/step - loss: 0.1005 - accuracy: 1.0000\n",
            "Epoch 27/50\n",
            "1/1 [==============================] - 0s 35ms/step - loss: 0.0694 - accuracy: 1.0000\n",
            "Epoch 28/50\n",
            "1/1 [==============================] - 0s 42ms/step - loss: 0.0473 - accuracy: 1.0000\n",
            "Epoch 29/50\n",
            "1/1 [==============================] - 0s 38ms/step - loss: 0.0321 - accuracy: 1.0000\n",
            "Epoch 30/50\n",
            "1/1 [==============================] - 0s 45ms/step - loss: 0.0217 - accuracy: 1.0000\n",
            "Epoch 31/50\n",
            "1/1 [==============================] - 0s 43ms/step - loss: 0.0148 - accuracy: 1.0000\n",
            "Epoch 32/50\n",
            "1/1 [==============================] - 0s 49ms/step - loss: 0.0102 - accuracy: 1.0000\n",
            "Epoch 33/50\n",
            "1/1 [==============================] - 0s 50ms/step - loss: 0.0071 - accuracy: 1.0000\n",
            "Epoch 34/50\n",
            "1/1 [==============================] - 0s 40ms/step - loss: 0.0051 - accuracy: 1.0000\n",
            "Epoch 35/50\n",
            "1/1 [==============================] - 0s 47ms/step - loss: 0.0037 - accuracy: 1.0000\n",
            "Epoch 36/50\n",
            "1/1 [==============================] - 0s 51ms/step - loss: 0.0027 - accuracy: 1.0000\n",
            "Epoch 37/50\n",
            "1/1 [==============================] - 0s 40ms/step - loss: 0.0020 - accuracy: 1.0000\n",
            "Epoch 38/50\n",
            "1/1 [==============================] - 0s 40ms/step - loss: 0.0015 - accuracy: 1.0000\n",
            "Epoch 39/50\n",
            "1/1 [==============================] - 0s 37ms/step - loss: 0.0012 - accuracy: 1.0000\n",
            "Epoch 40/50\n",
            "1/1 [==============================] - 0s 36ms/step - loss: 9.5457e-04 - accuracy: 1.0000\n",
            "Epoch 41/50\n",
            "1/1 [==============================] - 0s 36ms/step - loss: 7.6990e-04 - accuracy: 1.0000\n",
            "Epoch 42/50\n",
            "1/1 [==============================] - 0s 35ms/step - loss: 6.3114e-04 - accuracy: 1.0000\n",
            "Epoch 43/50\n",
            "1/1 [==============================] - 0s 39ms/step - loss: 5.2546e-04 - accuracy: 1.0000\n",
            "Epoch 44/50\n",
            "1/1 [==============================] - 0s 40ms/step - loss: 4.4378e-04 - accuracy: 1.0000\n",
            "Epoch 45/50\n",
            "1/1 [==============================] - 0s 36ms/step - loss: 3.7993e-04 - accuracy: 1.0000\n",
            "Epoch 46/50\n",
            "1/1 [==============================] - 0s 32ms/step - loss: 3.2941e-04 - accuracy: 1.0000\n",
            "Epoch 47/50\n",
            "1/1 [==============================] - 0s 34ms/step - loss: 2.8895e-04 - accuracy: 1.0000\n",
            "Epoch 48/50\n",
            "1/1 [==============================] - 0s 31ms/step - loss: 2.5623e-04 - accuracy: 1.0000\n",
            "Epoch 49/50\n",
            "1/1 [==============================] - 0s 38ms/step - loss: 2.2950e-04 - accuracy: 1.0000\n",
            "Epoch 50/50\n",
            "1/1 [==============================] - 0s 38ms/step - loss: 2.0753e-04 - accuracy: 1.0000\n"
          ]
        },
        {
          "output_type": "execute_result",
          "data": {
            "text/plain": [
              "<keras.src.callbacks.History at 0x7dd07bf0ecb0>"
            ]
          },
          "metadata": {},
          "execution_count": 31
        }
      ]
    },
    {
      "cell_type": "code",
      "source": [
        "from tensorflow.keras.layers import LayerNormalization, Dropout\n",
        "from tensorflow.keras.layers import MultiHeadAttention\n",
        "from tensorflow.keras import layers\n",
        "\n",
        "# Transformer-based model\n",
        "def create_transformer_model(vocab_size, max_input_len, max_target_len):\n",
        "    input_layer = Input(shape=(max_input_len,))\n",
        "    embedding_layer = Embedding(input_dim=vocab_size, output_dim=256, input_length=max_input_len)(input_layer)\n",
        "\n",
        "    # Transformer encoder block\n",
        "    attention_layer = MultiHeadAttention(num_heads=8, key_dim=256)(embedding_layer, embedding_layer)\n",
        "    attention_layer = LayerNormalization()(attention_layer)\n",
        "    attention_layer = Dropout(0.1)(attention_layer)\n",
        "\n",
        "    # Transformer decoder block\n",
        "    decoder_layer = MultiHeadAttention(num_heads=8, key_dim=256)(attention_layer, embedding_layer)\n",
        "    decoder_layer = LayerNormalization()(decoder_layer)\n",
        "    decoder_layer = Dropout(0.1)(decoder_layer)\n",
        "\n",
        "    # Output layer\n",
        "    output_layer = TimeDistributed(Dense(vocab_size, activation='softmax'))(decoder_layer)\n",
        "\n",
        "    model = Model(inputs=input_layer, outputs=output_layer)\n",
        "    model.compile(loss='categorical_crossentropy', optimizer='adam', metrics=['accuracy'])\n",
        "    return model\n",
        "\n",
        "# Create and train the Transformer model\n",
        "transformer_model = create_transformer_model(vocab_size, max_input_len, max_target_len)\n",
        "\n",
        "transformer_model.fit(input_sequences, target_sequences_one_hot, epochs=50, batch_size=32)\n"
      ],
      "metadata": {
        "colab": {
          "base_uri": "https://localhost:8080/"
        },
        "id": "-IF9dmqebcmp",
        "outputId": "172c8ab7-4739-491f-8e2c-de811216e7bf"
      },
      "execution_count": 32,
      "outputs": [
        {
          "output_type": "stream",
          "name": "stdout",
          "text": [
            "Epoch 1/50\n",
            "1/1 [==============================] - 2s 2s/step - loss: 1.9968 - accuracy: 0.3333\n",
            "Epoch 2/50\n",
            "1/1 [==============================] - 0s 60ms/step - loss: 0.0019 - accuracy: 1.0000\n",
            "Epoch 3/50\n",
            "1/1 [==============================] - 0s 57ms/step - loss: 2.4677e-05 - accuracy: 1.0000\n",
            "Epoch 4/50\n",
            "1/1 [==============================] - 0s 58ms/step - loss: 9.0203e-06 - accuracy: 1.0000\n",
            "Epoch 5/50\n",
            "1/1 [==============================] - 0s 58ms/step - loss: 1.2716e-06 - accuracy: 1.0000\n",
            "Epoch 6/50\n",
            "1/1 [==============================] - 0s 62ms/step - loss: 7.1526e-07 - accuracy: 1.0000\n",
            "Epoch 7/50\n",
            "1/1 [==============================] - 0s 56ms/step - loss: 3.5763e-07 - accuracy: 1.0000\n",
            "Epoch 8/50\n",
            "1/1 [==============================] - 0s 72ms/step - loss: 3.3776e-07 - accuracy: 1.0000\n",
            "Epoch 9/50\n",
            "1/1 [==============================] - 0s 59ms/step - loss: 3.7750e-07 - accuracy: 1.0000\n",
            "Epoch 10/50\n",
            "1/1 [==============================] - 0s 63ms/step - loss: 1.7881e-07 - accuracy: 1.0000\n",
            "Epoch 11/50\n",
            "1/1 [==============================] - 0s 62ms/step - loss: 1.1921e-07 - accuracy: 1.0000\n",
            "Epoch 12/50\n",
            "1/1 [==============================] - 0s 67ms/step - loss: 1.9868e-07 - accuracy: 1.0000\n",
            "Epoch 13/50\n",
            "1/1 [==============================] - 0s 66ms/step - loss: 2.3842e-07 - accuracy: 1.0000\n",
            "Epoch 14/50\n",
            "1/1 [==============================] - 0s 66ms/step - loss: 2.1855e-07 - accuracy: 1.0000\n",
            "Epoch 15/50\n",
            "1/1 [==============================] - 0s 60ms/step - loss: 1.1921e-07 - accuracy: 1.0000\n",
            "Epoch 16/50\n",
            "1/1 [==============================] - 0s 59ms/step - loss: 1.1921e-07 - accuracy: 1.0000\n",
            "Epoch 17/50\n",
            "1/1 [==============================] - 0s 60ms/step - loss: 1.1921e-07 - accuracy: 1.0000\n",
            "Epoch 18/50\n",
            "1/1 [==============================] - 0s 59ms/step - loss: 1.1921e-07 - accuracy: 1.0000\n",
            "Epoch 19/50\n",
            "1/1 [==============================] - 0s 55ms/step - loss: 1.5895e-07 - accuracy: 1.0000\n",
            "Epoch 20/50\n",
            "1/1 [==============================] - 0s 53ms/step - loss: 1.1921e-07 - accuracy: 1.0000\n",
            "Epoch 21/50\n",
            "1/1 [==============================] - 0s 60ms/step - loss: 1.1921e-07 - accuracy: 1.0000\n",
            "Epoch 22/50\n",
            "1/1 [==============================] - 0s 55ms/step - loss: 1.1921e-07 - accuracy: 1.0000\n",
            "Epoch 23/50\n",
            "1/1 [==============================] - 0s 58ms/step - loss: 1.1921e-07 - accuracy: 1.0000\n",
            "Epoch 24/50\n",
            "1/1 [==============================] - 0s 65ms/step - loss: 1.1921e-07 - accuracy: 1.0000\n",
            "Epoch 25/50\n",
            "1/1 [==============================] - 0s 58ms/step - loss: 1.1921e-07 - accuracy: 1.0000\n",
            "Epoch 26/50\n",
            "1/1 [==============================] - 0s 60ms/step - loss: 1.1921e-07 - accuracy: 1.0000\n",
            "Epoch 27/50\n",
            "1/1 [==============================] - 0s 73ms/step - loss: 1.1921e-07 - accuracy: 1.0000\n",
            "Epoch 28/50\n",
            "1/1 [==============================] - 0s 72ms/step - loss: 1.1921e-07 - accuracy: 1.0000\n",
            "Epoch 29/50\n",
            "1/1 [==============================] - 0s 63ms/step - loss: 1.1921e-07 - accuracy: 1.0000\n",
            "Epoch 30/50\n",
            "1/1 [==============================] - 0s 62ms/step - loss: 1.1921e-07 - accuracy: 1.0000\n",
            "Epoch 31/50\n",
            "1/1 [==============================] - 0s 57ms/step - loss: 2.5829e-07 - accuracy: 1.0000\n",
            "Epoch 32/50\n",
            "1/1 [==============================] - 0s 59ms/step - loss: 1.5895e-07 - accuracy: 1.0000\n",
            "Epoch 33/50\n",
            "1/1 [==============================] - 0s 56ms/step - loss: 1.1921e-07 - accuracy: 1.0000\n",
            "Epoch 34/50\n",
            "1/1 [==============================] - 0s 54ms/step - loss: 1.1921e-07 - accuracy: 1.0000\n",
            "Epoch 35/50\n",
            "1/1 [==============================] - 0s 57ms/step - loss: 1.1921e-07 - accuracy: 1.0000\n",
            "Epoch 36/50\n",
            "1/1 [==============================] - 0s 60ms/step - loss: 1.1921e-07 - accuracy: 1.0000\n",
            "Epoch 37/50\n",
            "1/1 [==============================] - 0s 63ms/step - loss: 1.1921e-07 - accuracy: 1.0000\n",
            "Epoch 38/50\n",
            "1/1 [==============================] - 0s 58ms/step - loss: 1.1921e-07 - accuracy: 1.0000\n",
            "Epoch 39/50\n",
            "1/1 [==============================] - 0s 58ms/step - loss: 1.1921e-07 - accuracy: 1.0000\n",
            "Epoch 40/50\n",
            "1/1 [==============================] - 0s 72ms/step - loss: 1.1921e-07 - accuracy: 1.0000\n",
            "Epoch 41/50\n",
            "1/1 [==============================] - 0s 60ms/step - loss: 1.1921e-07 - accuracy: 1.0000\n",
            "Epoch 42/50\n",
            "1/1 [==============================] - 0s 76ms/step - loss: 1.1921e-07 - accuracy: 1.0000\n",
            "Epoch 43/50\n",
            "1/1 [==============================] - 0s 72ms/step - loss: 2.7816e-07 - accuracy: 1.0000\n",
            "Epoch 44/50\n",
            "1/1 [==============================] - 0s 66ms/step - loss: 1.3908e-07 - accuracy: 1.0000\n",
            "Epoch 45/50\n",
            "1/1 [==============================] - 0s 60ms/step - loss: 1.1921e-07 - accuracy: 1.0000\n",
            "Epoch 46/50\n",
            "1/1 [==============================] - 0s 61ms/step - loss: 1.1921e-07 - accuracy: 1.0000\n",
            "Epoch 47/50\n",
            "1/1 [==============================] - 0s 57ms/step - loss: 1.1921e-07 - accuracy: 1.0000\n",
            "Epoch 48/50\n",
            "1/1 [==============================] - 0s 63ms/step - loss: 1.1921e-07 - accuracy: 1.0000\n",
            "Epoch 49/50\n",
            "1/1 [==============================] - 0s 76ms/step - loss: 1.7881e-07 - accuracy: 1.0000\n",
            "Epoch 50/50\n",
            "1/1 [==============================] - 0s 53ms/step - loss: 1.1921e-07 - accuracy: 1.0000\n"
          ]
        },
        {
          "output_type": "execute_result",
          "data": {
            "text/plain": [
              "<keras.src.callbacks.History at 0x7dd074bd9300>"
            ]
          },
          "metadata": {},
          "execution_count": 32
        }
      ]
    },
    {
      "cell_type": "code",
      "source": [
        "# Evaluate models\n",
        "attention_score = attention_model.evaluate(input_sequences, target_sequences_one_hot)\n",
        "no_attention_score = no_attention_model.evaluate(input_sequences, target_sequences_one_hot)\n",
        "transformer_score = transformer_model.evaluate(input_sequences, target_sequences_one_hot)\n",
        "\n",
        "print(f\"Attention Model Score: {attention_score}\")\n",
        "print(f\"No Attention Model Score: {no_attention_score}\")\n",
        "print(f\"Transformer Model Score: {transformer_score}\")\n"
      ],
      "metadata": {
        "colab": {
          "base_uri": "https://localhost:8080/"
        },
        "id": "cP69Iw-Bbg-0",
        "outputId": "8ef895f1-2e6e-4f5c-b9e3-ba446a471e44"
      },
      "execution_count": 33,
      "outputs": [
        {
          "output_type": "stream",
          "name": "stdout",
          "text": [
            "1/1 [==============================] - 1s 685ms/step - loss: 1.0997 - accuracy: 0.3333\n"
          ]
        },
        {
          "output_type": "stream",
          "name": "stderr",
          "text": [
            "WARNING:tensorflow:5 out of the last 5 calls to <function Model.make_test_function.<locals>.test_function at 0x7dd07ba0f400> triggered tf.function retracing. Tracing is expensive and the excessive number of tracings could be due to (1) creating @tf.function repeatedly in a loop, (2) passing tensors with different shapes, (3) passing Python objects instead of tensors. For (1), please define your @tf.function outside of the loop. For (2), @tf.function has reduce_retracing=True option that can avoid unnecessary retracing. For (3), please refer to https://www.tensorflow.org/guide/function#controlling_retracing and https://www.tensorflow.org/api_docs/python/tf/function for  more details.\n"
          ]
        },
        {
          "output_type": "stream",
          "name": "stdout",
          "text": [
            "1/1 [==============================] - 1s 703ms/step - loss: 1.8926e-04 - accuracy: 1.0000\n"
          ]
        },
        {
          "output_type": "stream",
          "name": "stderr",
          "text": [
            "WARNING:tensorflow:6 out of the last 6 calls to <function Model.make_test_function.<locals>.test_function at 0x7dd077b00280> triggered tf.function retracing. Tracing is expensive and the excessive number of tracings could be due to (1) creating @tf.function repeatedly in a loop, (2) passing tensors with different shapes, (3) passing Python objects instead of tensors. For (1), please define your @tf.function outside of the loop. For (2), @tf.function has reduce_retracing=True option that can avoid unnecessary retracing. For (3), please refer to https://www.tensorflow.org/guide/function#controlling_retracing and https://www.tensorflow.org/api_docs/python/tf/function for  more details.\n"
          ]
        },
        {
          "output_type": "stream",
          "name": "stdout",
          "text": [
            "1/1 [==============================] - 0s 215ms/step - loss: 1.1921e-07 - accuracy: 1.0000\n",
            "Attention Model Score: [1.099672794342041, 0.3333333432674408]\n",
            "No Attention Model Score: [0.0001892631407827139, 1.0]\n",
            "Transformer Model Score: [1.1920930376163597e-07, 1.0]\n"
          ]
        }
      ]
    },
    {
      "cell_type": "code",
      "source": [
        "import streamlit as st\n",
        "import PyPDF2\n",
        "\n",
        "# Load your trained models (ensure the models are saved after training)\n",
        "# attention_model = load_model('attention_model.h5')\n",
        "# no_attention_model = load_model('no_attention_model.h5')\n",
        "# transformer_model = load_model('transformer_model.h5')\n",
        "\n",
        "st.title(\"Text Summarization App\")\n",
        "\n",
        "model_choice = st.selectbox(\"Choose a model\", [\"Attention Model\", \"No Attention Model\", \"Transformer Model\"])\n",
        "\n",
        "text_input = st.text_area(\"Enter text to summarize\", height=150)\n",
        "\n",
        "pdf_file = st.file_uploader(\"Upload a PDF\", type=\"pdf\")\n",
        "\n",
        "if pdf_file:\n",
        "    # Read the PDF and extract text\n",
        "    reader = PyPDF2.PdfReader(pdf_file)\n",
        "    pdf_text = \"\"\n",
        "    for page in reader.pages:\n",
        "        pdf_text += page.extract_text()\n",
        "    text_input = pdf_text\n",
        "\n",
        "if st.button(\"Summarize\"):\n",
        "    if model_choice == \"Attention Model\":\n",
        "        model = attention_model\n",
        "    elif model_choice == \"No Attention Model\":\n",
        "        model = no_attention_model\n",
        "    else:\n",
        "        model = transformer_model\n",
        "\n",
        "    # Summarize using the selected model\n",
        "    summary = summarize_text(model, text_input)  # Define summarize_text to use your trained models\n",
        "    st.write(\"Summary:\")\n",
        "    st.write(summary)\n"
      ],
      "metadata": {
        "colab": {
          "base_uri": "https://localhost:8080/"
        },
        "id": "5CUgvIHBbzqC",
        "outputId": "af7d39f0-e692-4b12-c846-9513a7f98347"
      },
      "execution_count": 34,
      "outputs": [
        {
          "output_type": "stream",
          "name": "stderr",
          "text": [
            "2024-11-22 15:50:29.568 Thread 'MainThread': missing ScriptRunContext! This warning can be ignored when running in bare mode.\n",
            "2024-11-22 15:50:29.571 Thread 'MainThread': missing ScriptRunContext! This warning can be ignored when running in bare mode.\n",
            "2024-11-22 15:50:29.572 Thread 'MainThread': missing ScriptRunContext! This warning can be ignored when running in bare mode.\n",
            "2024-11-22 15:50:29.574 Thread 'MainThread': missing ScriptRunContext! This warning can be ignored when running in bare mode.\n",
            "2024-11-22 15:50:29.575 Thread 'MainThread': missing ScriptRunContext! This warning can be ignored when running in bare mode.\n",
            "2024-11-22 15:50:29.577 Thread 'MainThread': missing ScriptRunContext! This warning can be ignored when running in bare mode.\n",
            "2024-11-22 15:50:29.578 Thread 'MainThread': missing ScriptRunContext! This warning can be ignored when running in bare mode.\n",
            "2024-11-22 15:50:29.579 Thread 'MainThread': missing ScriptRunContext! This warning can be ignored when running in bare mode.\n",
            "2024-11-22 15:50:29.580 Thread 'MainThread': missing ScriptRunContext! This warning can be ignored when running in bare mode.\n",
            "2024-11-22 15:50:29.581 Thread 'MainThread': missing ScriptRunContext! This warning can be ignored when running in bare mode.\n",
            "2024-11-22 15:50:29.583 Thread 'MainThread': missing ScriptRunContext! This warning can be ignored when running in bare mode.\n",
            "2024-11-22 15:50:29.585 Thread 'MainThread': missing ScriptRunContext! This warning can be ignored when running in bare mode.\n",
            "2024-11-22 15:50:29.586 Thread 'MainThread': missing ScriptRunContext! This warning can be ignored when running in bare mode.\n",
            "2024-11-22 15:50:29.588 Thread 'MainThread': missing ScriptRunContext! This warning can be ignored when running in bare mode.\n",
            "2024-11-22 15:50:29.589 Thread 'MainThread': missing ScriptRunContext! This warning can be ignored when running in bare mode.\n",
            "2024-11-22 15:50:29.590 Thread 'MainThread': missing ScriptRunContext! This warning can be ignored when running in bare mode.\n",
            "2024-11-22 15:50:29.591 Thread 'MainThread': missing ScriptRunContext! This warning can be ignored when running in bare mode.\n",
            "2024-11-22 15:50:29.592 Thread 'MainThread': missing ScriptRunContext! This warning can be ignored when running in bare mode.\n",
            "2024-11-22 15:50:29.594 Thread 'MainThread': missing ScriptRunContext! This warning can be ignored when running in bare mode.\n",
            "2024-11-22 15:50:29.595 Thread 'MainThread': missing ScriptRunContext! This warning can be ignored when running in bare mode.\n",
            "2024-11-22 15:50:29.596 Thread 'MainThread': missing ScriptRunContext! This warning can be ignored when running in bare mode.\n",
            "2024-11-22 15:50:29.597 Thread 'MainThread': missing ScriptRunContext! This warning can be ignored when running in bare mode.\n",
            "2024-11-22 15:50:29.598 Thread 'MainThread': missing ScriptRunContext! This warning can be ignored when running in bare mode.\n",
            "2024-11-22 15:50:29.599 Thread 'MainThread': missing ScriptRunContext! This warning can be ignored when running in bare mode.\n"
          ]
        }
      ]
    },
    {
      "cell_type": "code",
      "source": [
        "def summarize_text(model, text):\n",
        "    # Preprocess the input text (tokenization, padding, etc.)\n",
        "    processed_text = preprocess_text(text)\n",
        "\n",
        "    # Generate summary\n",
        "    summary = model.predict(processed_text)\n",
        "\n",
        "    # Post-process the summary (convert sequence back to text)\n",
        "    summary_text = decode_summary(summary)\n",
        "    return summary_text\n"
      ],
      "metadata": {
        "id": "-rzIlo9ib8ZM"
      },
      "execution_count": 35,
      "outputs": []
    },
    {
      "cell_type": "code",
      "source": [
        "!pip install streamlit\n",
        "!pip install pyngrok\n"
      ],
      "metadata": {
        "colab": {
          "base_uri": "https://localhost:8080/"
        },
        "id": "asrDC9SBetCi",
        "outputId": "2d6cb1b5-45f9-4ff0-ad85-ccd076dbb457"
      },
      "execution_count": 36,
      "outputs": [
        {
          "output_type": "stream",
          "name": "stdout",
          "text": [
            "Requirement already satisfied: streamlit in /usr/local/lib/python3.10/dist-packages (1.40.1)\n",
            "Requirement already satisfied: altair<6,>=4.0 in /usr/local/lib/python3.10/dist-packages (from streamlit) (4.2.2)\n",
            "Requirement already satisfied: blinker<2,>=1.0.0 in /usr/local/lib/python3.10/dist-packages (from streamlit) (1.9.0)\n",
            "Requirement already satisfied: cachetools<6,>=4.0 in /usr/local/lib/python3.10/dist-packages (from streamlit) (5.5.0)\n",
            "Requirement already satisfied: click<9,>=7.0 in /usr/local/lib/python3.10/dist-packages (from streamlit) (8.1.7)\n",
            "Requirement already satisfied: numpy<3,>=1.20 in /usr/local/lib/python3.10/dist-packages (from streamlit) (1.24.3)\n",
            "Requirement already satisfied: packaging<25,>=20 in /usr/local/lib/python3.10/dist-packages (from streamlit) (24.2)\n",
            "Requirement already satisfied: pandas<3,>=1.4.0 in /usr/local/lib/python3.10/dist-packages (from streamlit) (2.2.2)\n",
            "Requirement already satisfied: pillow<12,>=7.1.0 in /usr/local/lib/python3.10/dist-packages (from streamlit) (11.0.0)\n",
            "Requirement already satisfied: protobuf<6,>=3.20 in /usr/local/lib/python3.10/dist-packages (from streamlit) (4.25.5)\n",
            "Requirement already satisfied: pyarrow>=7.0 in /usr/local/lib/python3.10/dist-packages (from streamlit) (17.0.0)\n",
            "Requirement already satisfied: requests<3,>=2.27 in /usr/local/lib/python3.10/dist-packages (from streamlit) (2.32.3)\n",
            "Requirement already satisfied: rich<14,>=10.14.0 in /usr/local/lib/python3.10/dist-packages (from streamlit) (13.9.4)\n",
            "Requirement already satisfied: tenacity<10,>=8.1.0 in /usr/local/lib/python3.10/dist-packages (from streamlit) (9.0.0)\n",
            "Requirement already satisfied: toml<2,>=0.10.1 in /usr/local/lib/python3.10/dist-packages (from streamlit) (0.10.2)\n",
            "Requirement already satisfied: typing-extensions<5,>=4.3.0 in /usr/local/lib/python3.10/dist-packages (from streamlit) (4.5.0)\n",
            "Requirement already satisfied: gitpython!=3.1.19,<4,>=3.0.7 in /usr/local/lib/python3.10/dist-packages (from streamlit) (3.1.43)\n",
            "Requirement already satisfied: pydeck<1,>=0.8.0b4 in /usr/local/lib/python3.10/dist-packages (from streamlit) (0.9.1)\n",
            "Requirement already satisfied: tornado<7,>=6.0.3 in /usr/local/lib/python3.10/dist-packages (from streamlit) (6.3.3)\n",
            "Requirement already satisfied: watchdog<7,>=2.1.5 in /usr/local/lib/python3.10/dist-packages (from streamlit) (6.0.0)\n",
            "Requirement already satisfied: entrypoints in /usr/local/lib/python3.10/dist-packages (from altair<6,>=4.0->streamlit) (0.4)\n",
            "Requirement already satisfied: jinja2 in /usr/local/lib/python3.10/dist-packages (from altair<6,>=4.0->streamlit) (3.1.4)\n",
            "Requirement already satisfied: jsonschema>=3.0 in /usr/local/lib/python3.10/dist-packages (from altair<6,>=4.0->streamlit) (4.23.0)\n",
            "Requirement already satisfied: toolz in /usr/local/lib/python3.10/dist-packages (from altair<6,>=4.0->streamlit) (0.12.1)\n",
            "Requirement already satisfied: gitdb<5,>=4.0.1 in /usr/local/lib/python3.10/dist-packages (from gitpython!=3.1.19,<4,>=3.0.7->streamlit) (4.0.11)\n",
            "Requirement already satisfied: python-dateutil>=2.8.2 in /usr/local/lib/python3.10/dist-packages (from pandas<3,>=1.4.0->streamlit) (2.8.2)\n",
            "Requirement already satisfied: pytz>=2020.1 in /usr/local/lib/python3.10/dist-packages (from pandas<3,>=1.4.0->streamlit) (2024.2)\n",
            "Requirement already satisfied: tzdata>=2022.7 in /usr/local/lib/python3.10/dist-packages (from pandas<3,>=1.4.0->streamlit) (2024.2)\n",
            "Requirement already satisfied: charset-normalizer<4,>=2 in /usr/local/lib/python3.10/dist-packages (from requests<3,>=2.27->streamlit) (3.4.0)\n",
            "Requirement already satisfied: idna<4,>=2.5 in /usr/local/lib/python3.10/dist-packages (from requests<3,>=2.27->streamlit) (3.10)\n",
            "Requirement already satisfied: urllib3<3,>=1.21.1 in /usr/local/lib/python3.10/dist-packages (from requests<3,>=2.27->streamlit) (2.2.3)\n",
            "Requirement already satisfied: certifi>=2017.4.17 in /usr/local/lib/python3.10/dist-packages (from requests<3,>=2.27->streamlit) (2024.8.30)\n",
            "Requirement already satisfied: markdown-it-py>=2.2.0 in /usr/local/lib/python3.10/dist-packages (from rich<14,>=10.14.0->streamlit) (3.0.0)\n",
            "Requirement already satisfied: pygments<3.0.0,>=2.13.0 in /usr/local/lib/python3.10/dist-packages (from rich<14,>=10.14.0->streamlit) (2.18.0)\n",
            "Requirement already satisfied: smmap<6,>=3.0.1 in /usr/local/lib/python3.10/dist-packages (from gitdb<5,>=4.0.1->gitpython!=3.1.19,<4,>=3.0.7->streamlit) (5.0.1)\n",
            "Requirement already satisfied: MarkupSafe>=2.0 in /usr/local/lib/python3.10/dist-packages (from jinja2->altair<6,>=4.0->streamlit) (3.0.2)\n",
            "Requirement already satisfied: attrs>=22.2.0 in /usr/local/lib/python3.10/dist-packages (from jsonschema>=3.0->altair<6,>=4.0->streamlit) (24.2.0)\n",
            "Requirement already satisfied: jsonschema-specifications>=2023.03.6 in /usr/local/lib/python3.10/dist-packages (from jsonschema>=3.0->altair<6,>=4.0->streamlit) (2024.10.1)\n",
            "Requirement already satisfied: referencing>=0.28.4 in /usr/local/lib/python3.10/dist-packages (from jsonschema>=3.0->altair<6,>=4.0->streamlit) (0.35.1)\n",
            "Requirement already satisfied: rpds-py>=0.7.1 in /usr/local/lib/python3.10/dist-packages (from jsonschema>=3.0->altair<6,>=4.0->streamlit) (0.21.0)\n",
            "Requirement already satisfied: mdurl~=0.1 in /usr/local/lib/python3.10/dist-packages (from markdown-it-py>=2.2.0->rich<14,>=10.14.0->streamlit) (0.1.2)\n",
            "Requirement already satisfied: six>=1.5 in /usr/local/lib/python3.10/dist-packages (from python-dateutil>=2.8.2->pandas<3,>=1.4.0->streamlit) (1.16.0)\n",
            "Requirement already satisfied: pyngrok in /usr/local/lib/python3.10/dist-packages (7.2.1)\n",
            "Requirement already satisfied: PyYAML>=5.1 in /usr/local/lib/python3.10/dist-packages (from pyngrok) (6.0.2)\n"
          ]
        }
      ]
    },
    {
      "cell_type": "code",
      "source": [
        "%%writefile app.py\n",
        "import streamlit as st\n",
        "from PyPDF2 import PdfReader\n",
        "import os\n",
        "\n",
        "# Import your text summarization models here\n",
        "# from your_models import encoder_decoder, encoder_decoder_attention, transformer\n",
        "\n",
        "def summarize_text(text, model_type):\n",
        "    if model_type == 'Encoder-Decoder':\n",
        "        # Use the Encoder-Decoder model to summarize\n",
        "        pass\n",
        "    elif model_type == 'Encoder-Decoder with Attention':\n",
        "        # Use the Encoder-Decoder with Attention model to summarize\n",
        "        pass\n",
        "    elif model_type == 'Transformer':\n",
        "        # Use the Transformer model to summarize\n",
        "        pass\n",
        "    return \"Summarized text here\"\n",
        "\n",
        "def summarize_pdf(file, model_type):\n",
        "    reader = PdfReader(file)\n",
        "    text = \"\"\n",
        "    for page in reader.pages:\n",
        "        text += page.extract_text()\n",
        "    return summarize_text(text, model_type)\n",
        "\n",
        "# Streamlit UI\n",
        "st.title(\"Text Summarization App\")\n",
        "\n",
        "model_type = st.selectbox('Choose model', ['Encoder-Decoder', 'Encoder-Decoder with Attention', 'Transformer'])\n",
        "\n",
        "input_type = st.radio(\"Select input type\", [\"Manual input\", \"Upload PDF\"])\n",
        "\n",
        "if input_type == \"Manual input\":\n",
        "    user_input = st.text_area(\"Enter text for summarization\", height=300)\n",
        "    if st.button(\"Summarize\"):\n",
        "        if user_input:\n",
        "            summary = summarize_text(user_input, model_type)\n",
        "            st.subheader(\"Summary\")\n",
        "            st.write(summary)\n",
        "        else:\n",
        "            st.error(\"Please enter text to summarize.\")\n",
        "\n",
        "elif input_type == \"Upload PDF\":\n",
        "    uploaded_file = st.file_uploader(\"Choose a PDF file\", type=\"pdf\")\n",
        "    if uploaded_file is not None:\n",
        "        summary = summarize_pdf(uploaded_file, model_type)\n",
        "        st.subheader(\"Summary\")\n",
        "        st.write(summary)\n"
      ],
      "metadata": {
        "colab": {
          "base_uri": "https://localhost:8080/"
        },
        "id": "ruIBDSPRe8QH",
        "outputId": "de3132c7-8c79-4677-b87d-798e9f3678d7"
      },
      "execution_count": 37,
      "outputs": [
        {
          "output_type": "stream",
          "name": "stdout",
          "text": [
            "Overwriting app.py\n"
          ]
        }
      ]
    },
    {
      "cell_type": "markdown",
      "source": [],
      "metadata": {
        "id": "MQWq2EZ5nuLl"
      }
    },
    {
      "cell_type": "code",
      "source": [
        "from pyngrok import ngrok\n",
        "\n",
        "# Add your ngrok token securely\n",
        "ngrok.set_auth_token(\"token\")\n"
      ],
      "metadata": {
        "id": "MvzidSeZhaQG"
      },
      "execution_count": 38,
      "outputs": []
    },
    {
      "cell_type": "code",
      "source": [
        "public_url = ngrok.connect(\"8501\")  # Use the port that Streamlit uses (default 8501)\n",
        "print(f\"Streamlit app is live at: {public_url}\")\n"
      ],
      "metadata": {
        "id": "ZP15_Xh_xbHg"
      },
      "execution_count": null,
      "outputs": []
    },
    {
      "cell_type": "markdown",
      "source": [
        "**Deployment Output**"
      ],
      "metadata": {
        "id": "MY1KF2wLqrd4"
      }
    },
    {
      "cell_type": "markdown",
      "source": [
        "![Screenshot 2024-11-22 220050.png](data:image/png;base64,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)"
      ],
      "metadata": {
        "id": "7oVxk0e-qwsL"
      }
    }
  ]
}